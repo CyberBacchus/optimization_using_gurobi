{
 "cells": [
  {
   "cell_type": "code",
   "execution_count": 172,
   "metadata": {},
   "outputs": [],
   "source": [
    "import gurobipy as gp\n",
    "from gurobipy import GRB"
   ]
  },
  {
   "cell_type": "code",
   "execution_count": 173,
   "metadata": {},
   "outputs": [],
   "source": [
    "combos, spaces, profits = gp.multidict(\n",
    "    {\n",
    "        (\"product1\", \"front\"): [480, 3100],\n",
    "        (\"product2\", \"front\"): [650, 3800],\n",
    "        (\"product3\", \"front\"): [580, 3500],\n",
    "        (\"product4\", \"front\"): [390, 2850],\n",
    "        (\"product1\", \"middle\"): [480, 3100],\n",
    "        (\"product2\", \"middle\"): [650, 3800],\n",
    "        (\"product3\", \"middle\"): [580, 3500],\n",
    "        (\"product4\", \"middle\"): [390, 2850],\n",
    "        (\"product1\", \"rear\"): [480, 3100],\n",
    "        (\"product2\", \"rear\"): [650, 3800],\n",
    "        (\"product3\", \"rear\"): [580, 3500],\n",
    "        (\"product4\", \"rear\"): [390, 2850],\n",
    "    }\n",
    ")"
   ]
  },
  {
   "cell_type": "code",
   "execution_count": 174,
   "metadata": {},
   "outputs": [],
   "source": [
    "products, masses = gp.multidict(\n",
    "    {\n",
    "        \"product1\": 18,\n",
    "        \"product2\": 15,\n",
    "        \"product3\": 23,\n",
    "        \"product4\": 12,\n",
    "    }\n",
    ")"
   ]
  },
  {
   "cell_type": "code",
   "execution_count": 175,
   "metadata": {},
   "outputs": [],
   "source": [
    "positions, mass_limits, space_limits = gp.multidict(\n",
    "    {\"front\": [10, 6800], \"middle\": [16, 8700], \"rear\": [8, 5300]}\n",
    ")"
   ]
  },
  {
   "cell_type": "code",
   "execution_count": 176,
   "metadata": {},
   "outputs": [],
   "source": [
    "m = gp.Model(\"product assign\")"
   ]
  },
  {
   "cell_type": "code",
   "execution_count": 177,
   "metadata": {},
   "outputs": [],
   "source": [
    "x = m.addVars(combos, name=\"x\", vtype=GRB.CONTINUOUS)"
   ]
  },
  {
   "cell_type": "code",
   "execution_count": 178,
   "metadata": {},
   "outputs": [],
   "source": [
    "m.setObjective(x.prod(profits), sense=GRB.MAXIMIZE)"
   ]
  },
  {
   "cell_type": "code",
   "execution_count": 179,
   "metadata": {},
   "outputs": [],
   "source": [
    "mass_cons = m.addConstrs(\n",
    "    (x.sum(\"*\", position) <= mass_limits[position] for position in positions),\n",
    "    name=\"mass_cons\",\n",
    ")"
   ]
  },
  {
   "cell_type": "code",
   "execution_count": 180,
   "metadata": {},
   "outputs": [],
   "source": [
    "space_cons = m.addConstrs(\n",
    "    (\n",
    "        sum(x[product, position] * spaces[product, position] for product in products)\n",
    "        <= space_limits[position]\n",
    "        for position in positions\n",
    "    ),\n",
    "    name=\"space_cons\",\n",
    ")"
   ]
  },
  {
   "cell_type": "code",
   "execution_count": 181,
   "metadata": {},
   "outputs": [],
   "source": [
    "product_mass_cons = m.addConstrs(\n",
    "    (x.sum(product, \"*\") <= masses[product] for product in products),\n",
    "    name=\"product_mass_cons\",\n",
    ")"
   ]
  },
  {
   "cell_type": "code",
   "execution_count": 182,
   "metadata": {},
   "outputs": [],
   "source": [
    "balance_con_1 = m.addConstr(\n",
    "    x.sum(\"*\", \"front\") / mass_limits[\"front\"]\n",
    "    == x.sum(\"*\", \"middle\") / mass_limits[\"middle\"],\n",
    "    name=\"balance_con_1\",\n",
    ")\n",
    "balance_con_2 = m.addConstr(\n",
    "    x.sum(\"*\", \"front\") / mass_limits[\"front\"]\n",
    "    == x.sum(\"*\", \"rear\") / mass_limits[\"rear\"],\n",
    "    name=\"balance_con_2\",\n",
    ")"
   ]
  },
  {
   "cell_type": "code",
   "execution_count": 183,
   "metadata": {},
   "outputs": [],
   "source": [
    "m.write(\"assign.lp\")"
   ]
  },
  {
   "cell_type": "code",
   "execution_count": 184,
   "metadata": {},
   "outputs": [
    {
     "name": "stdout",
     "output_type": "stream",
     "text": [
      "Gurobi Optimizer version 11.0.1 build v11.0.1rc0 (mac64[arm] - Darwin 23.4.0 23E224)\n",
      "\n",
      "CPU model: Apple M1 Pro\n",
      "Thread count: 8 physical cores, 8 logical processors, using up to 8 threads\n",
      "\n",
      "Optimize a model with 12 rows, 12 columns and 52 nonzeros\n",
      "Model fingerprint: 0x5bdb8565\n",
      "Coefficient statistics:\n",
      "  Matrix range     [6e-02, 6e+02]\n",
      "  Objective range  [3e+03, 4e+03]\n",
      "  Bounds range     [0e+00, 0e+00]\n",
      "  RHS range        [8e+00, 9e+03]\n",
      "Presolve time: 0.00s\n",
      "Presolved: 12 rows, 12 columns, 52 nonzeros\n",
      "\n",
      "Iteration    Objective       Primal Inf.    Dual Inf.      Time\n",
      "       0    1.2421875e+33   3.215234e+31   1.242188e+03      0s\n",
      "       6    1.2151579e+05   0.000000e+00   0.000000e+00      0s\n",
      "\n",
      "Solved in 6 iterations and 0.00 seconds (0.00 work units)\n",
      "Optimal objective  1.215157895e+05\n"
     ]
    }
   ],
   "source": [
    "m.optimize()"
   ]
  },
  {
   "cell_type": "code",
   "execution_count": 185,
   "metadata": {},
   "outputs": [
    {
     "name": "stdout",
     "output_type": "stream",
     "text": [
      "Objective value: 121515.78947368421\n",
      "Optimal solution:\n",
      "x[product2,front] = 10.0\n",
      "x[product3,middle] = 12.947368421052632\n",
      "x[product4,middle] = 3.0526315789473686\n",
      "x[product2,rear] = 5.0\n",
      "x[product3,rear] = 3.0\n"
     ]
    }
   ],
   "source": [
    "print(f\"Objective value: {m.ObjVal}\")\n",
    "print(\"Optimal solution:\")\n",
    "for i in m.getVars():\n",
    "    if i.X > 1e-6:\n",
    "        print(f\"{i.VarName} = {i.X}\", end=\"\\n\")"
   ]
  }
 ],
 "metadata": {
  "kernelspec": {
   "display_name": "Python 3",
   "language": "python",
   "name": "python3"
  },
  "language_info": {
   "codemirror_mode": {
    "name": "ipython",
    "version": 3
   },
   "file_extension": ".py",
   "mimetype": "text/x-python",
   "name": "python",
   "nbconvert_exporter": "python",
   "pygments_lexer": "ipython3",
   "version": "3.12.3"
  }
 },
 "nbformat": 4,
 "nbformat_minor": 2
}
