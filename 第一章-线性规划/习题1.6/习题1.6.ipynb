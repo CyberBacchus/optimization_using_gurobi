{
 "cells": [
  {
   "cell_type": "code",
   "execution_count": 69,
   "metadata": {},
   "outputs": [],
   "source": [
    "import gurobipy as gp\n",
    "from gurobipy import GRB"
   ]
  },
  {
   "cell_type": "markdown",
   "metadata": {},
   "source": [
    "- 决策变量：$x_{ij}$: 生产第i种糖用Ingredientj的量\n",
    "- 目标函数：价格-成本\n",
    "- 约束：可供Ingredient、成分、订单要求"
   ]
  },
  {
   "cell_type": "code",
   "execution_count": 70,
   "metadata": {},
   "outputs": [],
   "source": [
    "combos, profit = gp.multidict(\n",
    "    {\n",
    "        (\"MilkCandy\", \"IngredientA\"): 24 - 20,\n",
    "        (\"MilkCandy\", \"IngredientB\"): 24 - 12,\n",
    "        (\"MilkCandy\", \"IngredientC\"): 24 - 8,\n",
    "        (\"FruitCandy\", \"IngredientA\"): 15 - 20,\n",
    "        (\"FruitCandy\", \"IngredientB\"): 15 - 12,\n",
    "        (\"FruitCandy\", \"IngredientC\"): 15 - 8,\n",
    "    }\n",
    ")"
   ]
  },
  {
   "cell_type": "code",
   "execution_count": 71,
   "metadata": {},
   "outputs": [],
   "source": [
    "m = gp.Model(\"糖果生产分配问题\")"
   ]
  },
  {
   "cell_type": "code",
   "execution_count": 72,
   "metadata": {},
   "outputs": [],
   "source": [
    "x = m.addVars(combos, name=\"x\")"
   ]
  },
  {
   "cell_type": "code",
   "execution_count": 73,
   "metadata": {},
   "outputs": [],
   "source": [
    "m.setObjective(x.prod(profit), sense=GRB.MAXIMIZE)"
   ]
  },
  {
   "cell_type": "code",
   "execution_count": 74,
   "metadata": {},
   "outputs": [
    {
     "data": {
      "text/plain": [
       "<gurobi.Constr *Awaiting Model Update*>"
      ]
     },
     "execution_count": 74,
     "metadata": {},
     "output_type": "execute_result"
    }
   ],
   "source": [
    "m.addConstr(\n",
    "    x[\"MilkCandy\", \"IngredientA\"] >= 0.5 * x.sum(\"MilkCandy\", \"*\"), name=\"成分要求1\"\n",
    ")\n",
    "m.addConstr(\n",
    "    x[\"MilkCandy\", \"IngredientB\"] >= 0.25 * x.sum(\"MilkCandy\", \"*\"), name=\"成分要求2\"\n",
    ")\n",
    "m.addConstr(\n",
    "    x[\"MilkCandy\", \"IngredientC\"] <= 0.1 * x.sum(\"MilkCandy\", \"*\"), name=\"成分要求3\"\n",
    ")\n",
    "m.addConstr(\n",
    "    x[\"FruitCandy\", \"IngredientA\"] <= 0.4 * x.sum(\"FruitCandy\", \"*\"), name=\"成分要求4\"\n",
    ")\n",
    "m.addConstr(\n",
    "    x[\"FruitCandy\", \"IngredientB\"] <= 0.4 * x.sum(\"FruitCandy\", \"*\"), name=\"成分要求5\"\n",
    ")\n",
    "m.addConstr(\n",
    "    x[\"FruitCandy\", \"IngredientC\"] >= 0.15 * x.sum(\"FruitCandy\", \"*\"),\n",
    "    name=\"成分要求6\",\n",
    ")"
   ]
  },
  {
   "cell_type": "code",
   "execution_count": 75,
   "metadata": {},
   "outputs": [
    {
     "data": {
      "text/plain": [
       "<gurobi.Constr *Awaiting Model Update*>"
      ]
     },
     "execution_count": 75,
     "metadata": {},
     "output_type": "execute_result"
    }
   ],
   "source": [
    "m.addConstr(x.sum(\"MilkCandy\", \"*\") >= 600, name=\"订单要求1\")\n",
    "m.addConstr(x.sum(\"FruitCandy\", \"*\") >= 800, name=\"订单要求2\")"
   ]
  },
  {
   "cell_type": "code",
   "execution_count": 76,
   "metadata": {},
   "outputs": [
    {
     "data": {
      "text/plain": [
       "<gurobi.Constr *Awaiting Model Update*>"
      ]
     },
     "execution_count": 76,
     "metadata": {},
     "output_type": "execute_result"
    }
   ],
   "source": [
    "m.addConstr(x.sum(\"*\", \"IngredientA\") <= 500, name=\"原料限制1\")\n",
    "m.addConstr(x.sum(\"*\", \"IngredientB\") <= 750, name=\"原料限制2\")\n",
    "m.addConstr(x.sum(\"*\", \"IngredientC\") <= 625, name=\"原料限制3\")"
   ]
  },
  {
   "cell_type": "code",
   "execution_count": 77,
   "metadata": {},
   "outputs": [],
   "source": [
    "m.write(\"assign.lp\")"
   ]
  },
  {
   "cell_type": "code",
   "execution_count": 78,
   "metadata": {},
   "outputs": [
    {
     "name": "stdout",
     "output_type": "stream",
     "text": [
      "Gurobi Optimizer version 11.0.1 build v11.0.1rc0 (mac64[arm] - Darwin 23.4.0 23E224)\n",
      "\n",
      "CPU model: Apple M1 Pro\n",
      "Thread count: 8 physical cores, 8 logical processors, using up to 8 threads\n",
      "\n",
      "Optimize a model with 11 rows, 6 columns and 30 nonzeros\n",
      "Model fingerprint: 0x1ac81230\n",
      "Coefficient statistics:\n",
      "  Matrix range     [1e-01, 1e+00]\n",
      "  Objective range  [3e+00, 2e+01]\n",
      "  Bounds range     [0e+00, 0e+00]\n",
      "  RHS range        [5e+02, 8e+02]\n",
      "Presolve removed 1 rows and 1 columns\n",
      "Presolve time: 0.00s\n",
      "Presolved: 10 rows, 5 columns, 28 nonzeros\n",
      "\n",
      "Iteration    Objective       Primal Inf.    Dual Inf.      Time\n",
      "       0    1.3625000e+04   4.166667e+01   0.000000e+00      0s\n",
      "       1    1.3125000e+04   0.000000e+00   0.000000e+00      0s\n",
      "\n",
      "Solved in 1 iterations and 0.00 seconds (0.00 work units)\n",
      "Optimal objective  1.312500000e+04\n"
     ]
    }
   ],
   "source": [
    "m.optimize()"
   ]
  },
  {
   "cell_type": "code",
   "execution_count": 79,
   "metadata": {},
   "outputs": [
    {
     "name": "stdout",
     "output_type": "stream",
     "text": [
      "Objective value: 13125.0\n",
      "Optimal solution:\n",
      "x[MilkCandy,IngredientA] = 500.0\n",
      "x[MilkCandy,IngredientB] = 500.0\n",
      "x[MilkCandy,IngredientC] = 0.0\n",
      "x[FruitCandy,IngredientA] = 0.0\n",
      "x[FruitCandy,IngredientB] = 250.0\n",
      "x[FruitCandy,IngredientC] = 625.0\n"
     ]
    }
   ],
   "source": [
    "print(f\"Objective value: {m.ObjVal}\")\n",
    "print(\"Optimal solution:\")\n",
    "for i in m.getVars():\n",
    "    print(f\"{i.VarName} = {i.X}\", end=\"\\n\")"
   ]
  },
  {
   "cell_type": "markdown",
   "metadata": {},
   "source": [
    "这题我的答案和书里的答案不一样，但书里的答案显然错误。\\\n",
    "理由：原料A可供500kg，高级奶糖需要原料A含量超过50%，可知高级奶糖最多产1000kg，而书中答案是1175kg。"
   ]
  }
 ],
 "metadata": {
  "kernelspec": {
   "display_name": "Python 3",
   "language": "python",
   "name": "python3"
  },
  "language_info": {
   "codemirror_mode": {
    "name": "ipython",
    "version": 3
   },
   "file_extension": ".py",
   "mimetype": "text/x-python",
   "name": "python",
   "nbconvert_exporter": "python",
   "pygments_lexer": "ipython3",
   "version": "3.12.3"
  }
 },
 "nbformat": 4,
 "nbformat_minor": 2
}
