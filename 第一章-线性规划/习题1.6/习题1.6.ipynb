{
 "cells": [
  {
   "cell_type": "code",
   "execution_count": 47,
   "metadata": {},
   "outputs": [],
   "source": [
    "import gurobipy as gp\n",
    "from gurobipy import GRB"
   ]
  },
  {
   "cell_type": "markdown",
   "metadata": {},
   "source": [
    "- 决策变量：$x_{ij}$: 生产第i种糖用Ingredientj的量\n",
    "- 目标函数：价格-成本\n",
    "- 约束：可供Ingredient、成分、订单要求"
   ]
  },
  {
   "cell_type": "code",
   "execution_count": 48,
   "metadata": {},
   "outputs": [],
   "source": [
    "combos, profit = gp.multidict(\n",
    "    {\n",
    "        (\"MilkCandy\", \"IngredientA\"): 24 - 20,\n",
    "        (\"MilkCandy\", \"IngredientB\"): 24 - 12,\n",
    "        (\"MilkCandy\", \"IngredientC\"): 24 - 8,\n",
    "        (\"FruitCandy\", \"IngredientA\"): 15 - 20,\n",
    "        (\"FruitCandy\", \"IngredientB\"): 15 - 12,\n",
    "        (\"FruitCandy\", \"IngredientC\"): 15 - 8,\n",
    "    }\n",
    ")"
   ]
  },
  {
   "cell_type": "code",
   "execution_count": 49,
   "metadata": {},
   "outputs": [],
   "source": [
    "m = gp.Model(\"糖果生产分配问题\")"
   ]
  },
  {
   "cell_type": "code",
   "execution_count": 50,
   "metadata": {},
   "outputs": [],
   "source": [
    "x = m.addVars(combos, name=\"x\")"
   ]
  },
  {
   "cell_type": "code",
   "execution_count": 51,
   "metadata": {},
   "outputs": [],
   "source": [
    "m.setObjective(x.prod(profit), sense=GRB.MAXIMIZE)"
   ]
  },
  {
   "cell_type": "code",
   "execution_count": 52,
   "metadata": {},
   "outputs": [
    {
     "data": {
      "text/plain": [
       "<gurobi.Constr *Awaiting Model Update*>"
      ]
     },
     "execution_count": 52,
     "metadata": {},
     "output_type": "execute_result"
    }
   ],
   "source": [
    "m.addConstr(\n",
    "    x[\"MilkCandy\", \"IngredientA\"] >= 0.5 * x.sum(\"MilkCandy\", \"*\"), name=\"成分要求1\"\n",
    ")\n",
    "m.addConstr(\n",
    "    x[\"MilkCandy\", \"IngredientB\"] >= 0.25 * x.sum(\"MilkCandy\", \"*\"), name=\"成分要求2\"\n",
    ")\n",
    "m.addConstr(\n",
    "    x[\"MilkCandy\", \"IngredientC\"] <= 0.1 * x.sum(\"MilkCandy\", \"*\"), name=\"成分要求3\"\n",
    ")\n",
    "m.addConstr(\n",
    "    x[\"FruitCandy\", \"IngredientA\"] <= 0.4 * x.sum(\"FruitCandy\", \"*\"), name=\"成分要求4\"\n",
    ")\n",
    "m.addConstr(\n",
    "    x[\"FruitCandy\", \"IngredientB\"] <= 0.4 * x.sum(\"FruitCandy\", \"*\"), name=\"成分要求5\"\n",
    ")\n",
    "m.addConstr(\n",
    "    x[\"FruitCandy\", \"IngredientC\"] >= 0.15 * x.sum(\"FruitCandy\", \"*\"),\n",
    "    name=\"成分要求6\",\n",
    ")"
   ]
  },
  {
   "cell_type": "code",
   "execution_count": 53,
   "metadata": {},
   "outputs": [
    {
     "data": {
      "text/plain": [
       "<gurobi.Constr *Awaiting Model Update*>"
      ]
     },
     "execution_count": 53,
     "metadata": {},
     "output_type": "execute_result"
    }
   ],
   "source": [
    "m.addConstr(x.sum(\"MilkCandy\", \"*\") >= 600, name=\"订单要求1\")\n",
    "m.addConstr(x.sum(\"FruitCandy\", \"*\") >= 800, name=\"订单要求2\")"
   ]
  },
  {
   "cell_type": "code",
   "execution_count": 54,
   "metadata": {},
   "outputs": [
    {
     "data": {
      "text/plain": [
       "<gurobi.Constr *Awaiting Model Update*>"
      ]
     },
     "execution_count": 54,
     "metadata": {},
     "output_type": "execute_result"
    }
   ],
   "source": [
    "m.addConstr(x.sum(\"*\", \"IngredientA\") <= 500, name=\"原料限制1\")\n",
    "m.addConstr(x.sum(\"*\", \"IngredientB\") <= 750, name=\"原料限制2\")\n",
    "m.addConstr(x.sum(\"*\", \"IngredientC\") <= 620, name=\"原料限制3\")"
   ]
  },
  {
   "cell_type": "code",
   "execution_count": 55,
   "metadata": {},
   "outputs": [],
   "source": [
    "m.write(\"assign.lp\")"
   ]
  },
  {
   "cell_type": "code",
   "execution_count": null,
   "metadata": {},
   "outputs": [],
   "source": []
  }
 ],
 "metadata": {
  "kernelspec": {
   "display_name": "Python 3",
   "language": "python",
   "name": "python3"
  },
  "language_info": {
   "codemirror_mode": {
    "name": "ipython",
    "version": 3
   },
   "file_extension": ".py",
   "mimetype": "text/x-python",
   "name": "python",
   "nbconvert_exporter": "python",
   "pygments_lexer": "ipython3",
   "version": "3.12.2"
  }
 },
 "nbformat": 4,
 "nbformat_minor": 2
}
