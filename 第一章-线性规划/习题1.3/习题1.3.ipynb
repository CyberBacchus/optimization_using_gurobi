{
 "cells": [
  {
   "cell_type": "code",
   "execution_count": 32,
   "metadata": {},
   "outputs": [],
   "source": [
    "import gurobipy as gp\n",
    "from gurobipy import GRB"
   ]
  },
  {
   "cell_type": "markdown",
   "metadata": {},
   "source": [
    "### 决策变量\n",
    "- 产品I：由A1、A2完成A工序的产品x1、x2件，由B1、B2、B3完成B工序的产品x3、x4、x5件\n",
    "- 产品II：由A1、A2完成A工序的产品x6、x7件，由B1完成B工序的产品x8件\n",
    "- 产品III：由A2、B2完成工序的产品都为x9件\n",
    "### 目标函数：\n",
    "$$\\sum_{i=1}^{7}(单价_i-原料费_i)\\times x_i - 设备费用$$\n",
    "### 约束：\n",
    "- 决策变量定义\n",
    "$$ x_1+x_2 = x_3+x_4+x_5 $$\n",
    "$$ x_6+x_7 = x_8 $$\n",
    "- 设备有效台时"
   ]
  },
  {
   "cell_type": "code",
   "execution_count": 33,
   "metadata": {},
   "outputs": [],
   "source": [
    "m = gp.Model(\"设备工时整数优化\")"
   ]
  },
  {
   "cell_type": "code",
   "execution_count": 34,
   "metadata": {},
   "outputs": [],
   "source": [
    "x = m.addVars(9, name=\"x\", vtype=GRB.INTEGER)"
   ]
  },
  {
   "cell_type": "code",
   "execution_count": 35,
   "metadata": {},
   "outputs": [
    {
     "data": {
      "text/plain": [
       "<gurobi.Constr *Awaiting Model Update*>"
      ]
     },
     "execution_count": 35,
     "metadata": {},
     "output_type": "execute_result"
    }
   ],
   "source": [
    "m.addConstr(x[0] + x[1] == x[2] + x[3] + x[4])\n",
    "m.addConstr(x[5] + x[6] == x[7])"
   ]
  },
  {
   "cell_type": "code",
   "execution_count": 36,
   "metadata": {},
   "outputs": [],
   "source": [
    "profit = [1.25 - 0.25, 2 - 0.35, 2.8 - 0.5]\n",
    "times = [6000, 10000, 4000, 7000, 4000]\n",
    "costs = [300, 321, 250, 783, 200]\n",
    "cost_per_time = [j / i for i, j in zip(times, costs)]"
   ]
  },
  {
   "cell_type": "code",
   "execution_count": 37,
   "metadata": {},
   "outputs": [],
   "source": [
    "m.setObjective(\n",
    "    profit[0] * (x[0] + x[1])\n",
    "    + profit[1] * x[7]\n",
    "    + profit[2] * x[8]\n",
    "    - cost_per_time[0] * (x[0] + x[5])\n",
    "    - cost_per_time[1] * (x[1] + x[6] + x[8])\n",
    "    - cost_per_time[2] * (x[2] + x[7])\n",
    "    - cost_per_time[3] * (x[3] + x[8])\n",
    "    - cost_per_time[4] * x[7],\n",
    "    sense=GRB.MAXIMIZE,\n",
    ")"
   ]
  },
  {
   "cell_type": "code",
   "execution_count": 38,
   "metadata": {},
   "outputs": [
    {
     "data": {
      "text/plain": [
       "<gurobi.Constr *Awaiting Model Update*>"
      ]
     },
     "execution_count": 38,
     "metadata": {},
     "output_type": "execute_result"
    }
   ],
   "source": [
    "m.addConstr(5 * x[0] + 10 * x[5] <= times[0])\n",
    "m.addConstr(7 * x[1] + 9 * x[6] + 12 * x[8] <= times[1])\n",
    "m.addConstr(6 * x[2] + 8 * x[7] <= times[2])\n",
    "m.addConstr(4 * x[3] + 11 * x[8] <= times[3])\n",
    "m.addConstr(7 * x[4] <= times[4])"
   ]
  },
  {
   "cell_type": "code",
   "execution_count": 39,
   "metadata": {},
   "outputs": [],
   "source": [
    "m.write(\"IP.lp\")"
   ]
  },
  {
   "cell_type": "code",
   "execution_count": 40,
   "metadata": {},
   "outputs": [
    {
     "name": "stdout",
     "output_type": "stream",
     "text": [
      "Gurobi Optimizer version 11.0.1 build v11.0.1rc0 (mac64[arm] - Darwin 23.4.0 23E224)\n",
      "\n",
      "CPU model: Apple M1 Pro\n",
      "Thread count: 8 physical cores, 8 logical processors, using up to 8 threads\n",
      "\n",
      "Optimize a model with 7 rows, 9 columns and 18 nonzeros\n",
      "Model fingerprint: 0xa25d6557\n",
      "Variable types: 0 continuous, 9 integer (0 binary)\n",
      "Coefficient statistics:\n",
      "  Matrix range     [1e+00, 1e+01]\n",
      "  Objective range  [3e-02, 2e+00]\n",
      "  Bounds range     [0e+00, 0e+00]\n",
      "  RHS range        [4e+03, 1e+04]\n",
      "Found heuristic solution: objective 1371.2432571\n",
      "Presolve removed 2 rows and 1 columns\n",
      "Presolve time: 0.00s\n",
      "Presolved: 5 rows, 8 columns, 15 nonzeros\n",
      "Variable types: 0 continuous, 8 integer (0 binary)\n",
      "Found heuristic solution: objective 2115.9790571\n",
      "\n",
      "Root relaxation: objective 2.717844e+03, 6 iterations, 0.00 seconds (0.00 work units)\n",
      "\n",
      "    Nodes    |    Current Node    |     Objective Bounds      |     Work\n",
      " Expl Unexpl |  Obj  Depth IntInf | Incumbent    BestBd   Gap | It/Node Time\n",
      "\n",
      "     0     0 2717.84424    0    3 2115.97906 2717.84424  28.4%     -    0s\n",
      "H    0     0                    2717.1896000 2717.84424  0.02%     -    0s\n",
      "H    0     0                    2717.3456429 2717.84424  0.02%     -    0s\n",
      "H    0     0                    2717.7896000 2717.84424  0.00%     -    0s\n",
      "\n",
      "Explored 1 nodes (6 simplex iterations) in 0.01 seconds (0.00 work units)\n",
      "Thread count was 8 (of 8 available processors)\n",
      "\n",
      "Solution count 5: 2717.79 2717.35 2717.19 ... 1371.24\n",
      "\n",
      "Optimal solution found (tolerance 1.00e-04)\n",
      "Best objective 2.717789600000e+03, best bound 2.717844241379e+03, gap 0.0020%\n"
     ]
    }
   ],
   "source": [
    "m.optimize()"
   ]
  },
  {
   "cell_type": "code",
   "execution_count": 41,
   "metadata": {},
   "outputs": [
    {
     "name": "stdout",
     "output_type": "stream",
     "text": [
      "Objective value: 2717.7896\n",
      "Optimal solution:\n",
      "x[0] = 1200.0\n",
      "x[1] = 230.0\n",
      "x[2] = -0.0\n",
      "x[3] = 859.0\n",
      "x[4] = 571.0\n",
      "x[5] = -0.0\n",
      "x[6] = 500.0\n",
      "x[7] = 500.0\n",
      "x[8] = 324.0\n"
     ]
    }
   ],
   "source": [
    "print(f\"Objective value: {m.ObjVal}\")\n",
    "print(\"Optimal solution:\")\n",
    "for i in m.getVars():\n",
    "    print(f\"{i.VarName} = {i.X}\", end=\"\\n\")"
   ]
  }
 ],
 "metadata": {
  "kernelspec": {
   "display_name": "Python 3",
   "language": "python",
   "name": "python3"
  },
  "language_info": {
   "codemirror_mode": {
    "name": "ipython",
    "version": 3
   },
   "file_extension": ".py",
   "mimetype": "text/x-python",
   "name": "python",
   "nbconvert_exporter": "python",
   "pygments_lexer": "ipython3",
   "version": "3.12.2"
  }
 },
 "nbformat": 4,
 "nbformat_minor": 2
}
