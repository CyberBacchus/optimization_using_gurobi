{
 "cells": [
  {
   "cell_type": "code",
   "execution_count": 1,
   "metadata": {},
   "outputs": [],
   "source": [
    "from gurobipy import *"
   ]
  },
  {
   "cell_type": "code",
   "execution_count": 2,
   "metadata": {},
   "outputs": [],
   "source": [
    "m = Model(\"exp1.6\")"
   ]
  },
  {
   "cell_type": "code",
   "execution_count": 3,
   "metadata": {},
   "outputs": [],
   "source": [
    "u = [m.addVar(name=f\"u_{i}\") for i in range(4)]\n",
    "v = [m.addVar(name=f\"v_{i}\") for i in range(4)]"
   ]
  },
  {
   "cell_type": "code",
   "execution_count": 4,
   "metadata": {},
   "outputs": [],
   "source": [
    "m.setObjective(\n",
    "    (u[0] + v[0]) + 2 * (u[1] + v[1]) + 3 * (u[2] + v[2]) + 4 * (u[3] + v[3])\n",
    ")"
   ]
  },
  {
   "cell_type": "code",
   "execution_count": 5,
   "metadata": {},
   "outputs": [
    {
     "data": {
      "text/plain": [
       "<gurobi.Constr *Awaiting Model Update*>"
      ]
     },
     "execution_count": 5,
     "metadata": {},
     "output_type": "execute_result"
    }
   ],
   "source": [
    "m.addConstr((u[0] - v[0]) - (u[1] - v[1]) - (u[2] - v[2]) + (u[3] - v[3]) <= -2)\n",
    "m.addConstr((u[0] - v[0]) - (u[1] - v[1]) + (u[2] - v[2]) - 3 * (u[3] - v[3]) <= -1)\n",
    "m.addConstr(\n",
    "    (u[0] - v[0]) - (u[1] - v[1]) - 2 * (u[2] - v[2]) + 3 * (u[3] - v[3]) <= -1 / 2\n",
    ")"
   ]
  },
  {
   "cell_type": "code",
   "execution_count": 6,
   "metadata": {},
   "outputs": [],
   "source": [
    "m.write(\"例1.7.lp\")"
   ]
  },
  {
   "cell_type": "code",
   "execution_count": 7,
   "metadata": {},
   "outputs": [
    {
     "name": "stdout",
     "output_type": "stream",
     "text": [
      "Gurobi Optimizer version 11.0.1 build v11.0.1rc0 (mac64[arm] - Darwin 23.4.0 23E224)\n",
      "\n",
      "CPU model: Apple M1 Pro\n",
      "Thread count: 8 physical cores, 8 logical processors, using up to 8 threads\n",
      "\n",
      "Optimize a model with 3 rows, 8 columns and 24 nonzeros\n",
      "Model fingerprint: 0xba1c1c55\n",
      "Coefficient statistics:\n",
      "  Matrix range     [1e+00, 3e+00]\n",
      "  Objective range  [1e+00, 4e+00]\n",
      "  Bounds range     [0e+00, 0e+00]\n",
      "  RHS range        [5e-01, 2e+00]\n",
      "Presolve removed 3 rows and 8 columns\n",
      "Presolve time: 0.00s\n",
      "Presolve: All rows and columns removed\n",
      "Iteration    Objective       Primal Inf.    Dual Inf.      Time\n",
      "       0    2.0000000e+00   0.000000e+00   0.000000e+00      0s\n",
      "\n",
      "Solved in 0 iterations and 0.00 seconds (0.00 work units)\n",
      "Optimal objective  2.000000000e+00\n"
     ]
    }
   ],
   "source": [
    "m.optimize()"
   ]
  },
  {
   "cell_type": "code",
   "execution_count": 8,
   "metadata": {},
   "outputs": [
    {
     "name": "stdout",
     "output_type": "stream",
     "text": [
      "Objective value: 2.0\n",
      "Optimal solution:\n",
      "u_0 = 0.0\n",
      "u_1 = 0.0\n",
      "u_2 = 0.0\n",
      "u_3 = 0.0\n",
      "v_0 = 2.0\n",
      "v_1 = 0.0\n",
      "v_2 = 0.0\n",
      "v_3 = 0.0\n"
     ]
    }
   ],
   "source": [
    "print(f\"Objective value: {m.ObjVal}\")\n",
    "print(\"Optimal solution:\")\n",
    "for i in m.getVars():\n",
    "    x = [u[i].X - v[i].X for i in range(len(u))]\n",
    "    print(f\"{i.VarName} = {i.X}\", end=\"\\n\")"
   ]
  },
  {
   "cell_type": "code",
   "execution_count": 9,
   "metadata": {},
   "outputs": [
    {
     "name": "stdout",
     "output_type": "stream",
     "text": [
      "x_0 = -2.0\n",
      "x_1 = 0.0\n",
      "x_2 = 0.0\n",
      "x_3 = 0.0\n"
     ]
    }
   ],
   "source": [
    "for i in range(len(x)):\n",
    "    print(f\"x_{i} = {x[i]}\")"
   ]
  }
 ],
 "metadata": {
  "kernelspec": {
   "display_name": "Python 3",
   "language": "python",
   "name": "python3"
  },
  "language_info": {
   "codemirror_mode": {
    "name": "ipython",
    "version": 3
   },
   "file_extension": ".py",
   "mimetype": "text/x-python",
   "name": "python",
   "nbconvert_exporter": "python",
   "pygments_lexer": "ipython3",
   "version": "3.12.2"
  }
 },
 "nbformat": 4,
 "nbformat_minor": 2
}
