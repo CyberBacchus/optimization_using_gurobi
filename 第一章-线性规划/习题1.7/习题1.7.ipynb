{
 "cells": [
  {
   "cell_type": "code",
   "execution_count": 111,
   "metadata": {},
   "outputs": [],
   "source": [
    "import numpy as np\n",
    "import gurobipy as gp\n",
    "from gurobipy import GRB"
   ]
  },
  {
   "cell_type": "code",
   "execution_count": 112,
   "metadata": {},
   "outputs": [],
   "source": [
    "m = gp.Model()"
   ]
  },
  {
   "cell_type": "code",
   "execution_count": 113,
   "metadata": {},
   "outputs": [],
   "source": [
    "v = m.addVar(name=\"v\")\n",
    "x = m.addMVar(100, name=\"x\")"
   ]
  },
  {
   "cell_type": "code",
   "execution_count": 114,
   "metadata": {},
   "outputs": [],
   "source": [
    "m.setObjective(v, sense=GRB.MAXIMIZE)"
   ]
  },
  {
   "cell_type": "code",
   "execution_count": 115,
   "metadata": {},
   "outputs": [
    {
     "data": {
      "text/plain": [
       "<MConstr ()>"
      ]
     },
     "execution_count": 115,
     "metadata": {},
     "output_type": "execute_result"
    }
   ],
   "source": [
    "m.addConstr(x.sum() == 100)"
   ]
  },
  {
   "cell_type": "code",
   "execution_count": 116,
   "metadata": {},
   "outputs": [],
   "source": [
    "A = np.random.randint(0, 11, size=(100, 150))"
   ]
  },
  {
   "cell_type": "code",
   "execution_count": 117,
   "metadata": {},
   "outputs": [
    {
     "data": {
      "text/plain": [
       "<MConstr (150,) *awaiting model update*>"
      ]
     },
     "execution_count": 117,
     "metadata": {},
     "output_type": "execute_result"
    }
   ],
   "source": [
    "m.addConstr(np.transpose(A) @ x >= v)"
   ]
  },
  {
   "cell_type": "code",
   "execution_count": 118,
   "metadata": {},
   "outputs": [
    {
     "name": "stdout",
     "output_type": "stream",
     "text": [
      "Gurobi Optimizer version 11.0.1 build v11.0.1rc0 (mac64[arm] - Darwin 23.4.0 23E224)\n",
      "\n",
      "CPU model: Apple M1 Pro\n",
      "Thread count: 8 physical cores, 8 logical processors, using up to 8 threads\n",
      "\n",
      "Optimize a model with 151 rows, 101 columns and 13904 nonzeros\n",
      "Model fingerprint: 0x9cad7304\n",
      "Coefficient statistics:\n",
      "  Matrix range     [1e+00, 1e+01]\n",
      "  Objective range  [1e+00, 1e+00]\n",
      "  Bounds range     [0e+00, 0e+00]\n",
      "  RHS range        [1e+02, 1e+02]\n",
      "Presolve time: 0.00s\n",
      "Presolved: 151 rows, 101 columns, 13904 nonzeros\n",
      "\n",
      "Iteration    Objective       Primal Inf.    Dual Inf.      Time\n",
      "       0    4.0000000e+30   1.500000e+32   4.000000e+00      0s\n",
      "     156    4.8609721e+02   0.000000e+00   0.000000e+00      0s\n",
      "\n",
      "Solved in 156 iterations and 0.01 seconds (0.01 work units)\n",
      "Optimal objective  4.860972081e+02\n"
     ]
    }
   ],
   "source": [
    "m.optimize()"
   ]
  },
  {
   "cell_type": "code",
   "execution_count": 119,
   "metadata": {},
   "outputs": [
    {
     "name": "stdout",
     "output_type": "stream",
     "text": [
      "Objective value: 486.09720806533556\n",
      "Optimal solution:\n",
      "v = 486.09720806533556\n",
      "x[2] = 2.2655678867738285\n",
      "x[4] = 1.2407250730558737\n",
      "x[10] = 0.49849881701669124\n",
      "x[11] = 0.7168166980595368\n",
      "x[12] = 2.952794435512176\n",
      "x[13] = 1.8515715319946215\n",
      "x[14] = 3.7332429886302965\n",
      "x[16] = 2.7144950104844483\n",
      "x[18] = 0.3251958075613484\n",
      "x[19] = 0.01665698474267421\n",
      "x[20] = 1.9310773194875313\n",
      "x[21] = 1.2377704170501378\n",
      "x[23] = 0.3995678296618955\n",
      "x[26] = 2.0790491343089754\n",
      "x[27] = 2.992477162600621\n",
      "x[28] = 1.8020816807333655\n",
      "x[29] = 0.49997311407858586\n",
      "x[30] = 0.823311348928615\n",
      "x[31] = 2.5525400398673876\n",
      "x[32] = 0.035160137507966864\n",
      "x[34] = 0.6788223650887453\n",
      "x[36] = 2.3243888947143536\n",
      "x[38] = 2.222814192243577\n",
      "x[39] = 0.7669649115314896\n",
      "x[40] = 4.375175166753002\n",
      "x[44] = 2.3339055675323133\n",
      "x[45] = 1.4855603430596944\n",
      "x[46] = 0.5035566390719733\n",
      "x[47] = 2.8546660451407253\n",
      "x[49] = 1.1610056287702557\n",
      "x[50] = 0.8329402776339343\n",
      "x[51] = 1.7962658114654666\n",
      "x[52] = 1.1618868763501717\n",
      "x[55] = 0.7763945420633916\n",
      "x[57] = 1.5936258441607976\n",
      "x[58] = 0.8355042008789912\n",
      "x[60] = 2.2087217126237193\n",
      "x[61] = 2.2836922263548707\n",
      "x[62] = 2.088731007322756\n",
      "x[65] = 2.659190942788134\n",
      "x[67] = 2.898761141596475\n",
      "x[72] = 0.8776363024283574\n",
      "x[73] = 1.2494846351819728\n",
      "x[75] = 2.8750740053902373\n",
      "x[76] = 0.5399789916580169\n",
      "x[77] = 3.6242834890195854\n",
      "x[79] = 0.4137803214060633\n",
      "x[81] = 0.012177675802557027\n",
      "x[82] = 0.9122505556914818\n",
      "x[84] = 1.891236757964704\n",
      "x[85] = 2.230491136872425\n",
      "x[86] = 1.7485367396308726\n",
      "x[87] = 2.292046154950366\n",
      "x[88] = 2.0778098132863927\n",
      "x[89] = 2.827834436391997\n",
      "x[90] = 0.48270012959320346\n",
      "x[91] = 2.6475566515474793\n",
      "x[93] = 0.6563497134627188\n",
      "x[94] = 1.2410965903735418\n",
      "x[95] = 1.392227945146866\n",
      "x[99] = 1.4963001989997722\n"
     ]
    }
   ],
   "source": [
    "print(f\"Objective value: {m.ObjVal}\")\n",
    "print(\"Optimal solution:\")\n",
    "for i in m.getVars():\n",
    "    if i.X > 1e-6:\n",
    "        print(f\"{i.VarName} = {i.X}\", end=\"\\n\")"
   ]
  },
  {
   "cell_type": "code",
   "execution_count": 120,
   "metadata": {},
   "outputs": [],
   "source": [
    "m.write(\"test.lp\")"
   ]
  }
 ],
 "metadata": {
  "kernelspec": {
   "display_name": "Python 3",
   "language": "python",
   "name": "python3"
  },
  "language_info": {
   "codemirror_mode": {
    "name": "ipython",
    "version": 3
   },
   "file_extension": ".py",
   "mimetype": "text/x-python",
   "name": "python",
   "nbconvert_exporter": "python",
   "pygments_lexer": "ipython3",
   "version": "3.12.3"
  }
 },
 "nbformat": 4,
 "nbformat_minor": 2
}
