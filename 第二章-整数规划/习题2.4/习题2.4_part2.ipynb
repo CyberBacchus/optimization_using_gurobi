{
 "cells": [
  {
   "cell_type": "markdown",
   "metadata": {},
   "source": [
    "# 这题我还没做对"
   ]
  },
  {
   "cell_type": "code",
   "execution_count": 97,
   "metadata": {},
   "outputs": [],
   "source": [
    "import numpy as np\n",
    "import pandas as pd\n",
    "import gurobipy as gp\n",
    "from math import log\n",
    "from gurobipy import GRB\n",
    "from decimal import Decimal"
   ]
  },
  {
   "cell_type": "code",
   "execution_count": 98,
   "metadata": {},
   "outputs": [
    {
     "name": "stderr",
     "output_type": "stream",
     "text": [
      "/var/folders/n_/d82sr3dd4jgfqk4vk5sblcn80000gn/T/ipykernel_89198/2879913793.py:23: DeprecationWarning: DataFrameGroupBy.apply operated on the grouping columns. This behavior is deprecated, and in a future version of pandas the grouping columns will be excluded from the operation. Either pass `include_groups=False` to exclude the groupings or explicitly select the grouping columns after groupby to silence this warning.\n",
      "  .apply(\n"
     ]
    }
   ],
   "source": [
    "df = pd.read_csv(\"2.4.csv\")\n",
    "\n",
    "athletes = df.columns\n",
    "sports = pd.Index((\"Sport1\", \"Sport2\", \"Sport3\", \"Sport4\"))\n",
    "df.index = sports\n",
    "\n",
    "df_long = pd.melt(\n",
    "    df.reset_index(), id_vars=\"index\", var_name=\"运动员\", value_name=\"得分~概率\"\n",
    ")\n",
    "df_long.columns = [\"项目\", \"运动员\", \"得分~概率\"]\n",
    "\n",
    "expanded_data = []\n",
    "for i, row in df_long.iterrows():\n",
    "    for item in row[\"得分~概率\"].split(\" \"):\n",
    "        score, prob = map(Decimal, item.split(\"~\"))\n",
    "        expanded_data.append(\n",
    "            {\"项目\": row[\"项目\"], \"运动员\": row[\"运动员\"], \"得分\": score, \"概率\": prob}\n",
    "        )\n",
    "expanded_df = pd.DataFrame(expanded_data)\n",
    "# 计算最低得分和期望平均分\n",
    "summary_stats = (\n",
    "    expanded_df.groupby([\"项目\", \"运动员\"])\n",
    "    .apply(\n",
    "        lambda x: pd.Series(\n",
    "            {\"最低得分\": x[\"得分\"].min(), \"期望平均分\": (x[\"得分\"] * x[\"概率\"]).sum()}\n",
    "        )\n",
    "    )\n",
    "    .reset_index()\n",
    ")"
   ]
  },
  {
   "cell_type": "code",
   "execution_count": 99,
   "metadata": {},
   "outputs": [],
   "source": [
    "prob_combos, scores, probs = gp.multidict(\n",
    "    {\n",
    "        (row[\"项目\"], row[\"运动员\"], row[\"得分\"]): [row[\"得分\"], row[\"概率\"]]\n",
    "        for _, row in expanded_df.iterrows()\n",
    "    }\n",
    ")"
   ]
  },
  {
   "cell_type": "code",
   "execution_count": 100,
   "metadata": {},
   "outputs": [],
   "source": [
    "m = gp.Model()"
   ]
  },
  {
   "cell_type": "code",
   "execution_count": 101,
   "metadata": {},
   "outputs": [],
   "source": [
    "x = m.addVars(prob_combos, vtype=GRB.BINARY, name=\"x\")\n",
    "y = m.addVars(athletes, vtype=GRB.BINARY, name=\"y\")"
   ]
  },
  {
   "cell_type": "code",
   "execution_count": 102,
   "metadata": {},
   "outputs": [],
   "source": [
    "m.setObjective(x.prod(probs), sense=GRB.MAXIMIZE)"
   ]
  },
  {
   "cell_type": "code",
   "execution_count": 103,
   "metadata": {},
   "outputs": [
    {
     "data": {
      "text/plain": [
       "<gurobi.Constr *Awaiting Model Update*>"
      ]
     },
     "execution_count": 103,
     "metadata": {},
     "output_type": "execute_result"
    }
   ],
   "source": [
    "m.addConstr(y.sum() == 4, name=\"应有四人参加全能比赛\")"
   ]
  },
  {
   "cell_type": "code",
   "execution_count": 104,
   "metadata": {},
   "outputs": [
    {
     "data": {
      "text/plain": [
       "{'Sport1': <gurobi.Constr *Awaiting Model Update*>,\n",
       " 'Sport2': <gurobi.Constr *Awaiting Model Update*>,\n",
       " 'Sport3': <gurobi.Constr *Awaiting Model Update*>,\n",
       " 'Sport4': <gurobi.Constr *Awaiting Model Update*>}"
      ]
     },
     "execution_count": 104,
     "metadata": {},
     "output_type": "execute_result"
    }
   ],
   "source": [
    "m.addConstrs((x.sum(sport, \"*\") == 6 for sport in sports), name=\"每个项目最多出场六人\")"
   ]
  },
  {
   "cell_type": "code",
   "execution_count": 105,
   "metadata": {},
   "outputs": [
    {
     "data": {
      "text/plain": [
       "{'Athlete1': <gurobi.Constr *Awaiting Model Update*>,\n",
       " 'Athlete2': <gurobi.Constr *Awaiting Model Update*>,\n",
       " 'Athlete3': <gurobi.Constr *Awaiting Model Update*>,\n",
       " 'Athlete4': <gurobi.Constr *Awaiting Model Update*>,\n",
       " 'Athlete5': <gurobi.Constr *Awaiting Model Update*>,\n",
       " 'Athlete6': <gurobi.Constr *Awaiting Model Update*>,\n",
       " 'Athlete7': <gurobi.Constr *Awaiting Model Update*>,\n",
       " 'Athlete8': <gurobi.Constr *Awaiting Model Update*>,\n",
       " 'Athlete9': <gurobi.Constr *Awaiting Model Update*>,\n",
       " 'Athlete10': <gurobi.Constr *Awaiting Model Update*>}"
      ]
     },
     "execution_count": 105,
     "metadata": {},
     "output_type": "execute_result"
    }
   ],
   "source": [
    "m.addConstrs(\n",
    "    (x.sum(\"*\", athlete) <= 3 + y[athlete] for athlete in athletes),\n",
    "    name=\"是否参加全能比赛上限约束\",\n",
    ")\n",
    "m.addConstrs(\n",
    "    (4 * y[athlete] <= x.sum(\"*\", athlete) for athlete in athletes),\n",
    "    name=\"是否参加全能比赛下限约束\",\n",
    ")"
   ]
  },
  {
   "cell_type": "code",
   "execution_count": 106,
   "metadata": {},
   "outputs": [
    {
     "data": {
      "text/plain": [
       "<gurobi.Var *Awaiting Model Update*>"
      ]
     },
     "execution_count": 106,
     "metadata": {},
     "output_type": "execute_result"
    }
   ],
   "source": [
    "x[\"Sport1\", \"Athlete1\", Decimal(\"8.4\")]"
   ]
  },
  {
   "cell_type": "code",
   "execution_count": 107,
   "metadata": {},
   "outputs": [
    {
     "data": {
      "text/plain": [
       "{('Sport1', 'Athlete1'): <gurobi.Constr *Awaiting Model Update*>,\n",
       " ('Sport1', 'Athlete2'): <gurobi.Constr *Awaiting Model Update*>,\n",
       " ('Sport1', 'Athlete3'): <gurobi.Constr *Awaiting Model Update*>,\n",
       " ('Sport1', 'Athlete4'): <gurobi.Constr *Awaiting Model Update*>,\n",
       " ('Sport1', 'Athlete5'): <gurobi.Constr *Awaiting Model Update*>,\n",
       " ('Sport1', 'Athlete6'): <gurobi.Constr *Awaiting Model Update*>,\n",
       " ('Sport1', 'Athlete7'): <gurobi.Constr *Awaiting Model Update*>,\n",
       " ('Sport1', 'Athlete8'): <gurobi.Constr *Awaiting Model Update*>,\n",
       " ('Sport1', 'Athlete9'): <gurobi.Constr *Awaiting Model Update*>,\n",
       " ('Sport1', 'Athlete10'): <gurobi.Constr *Awaiting Model Update*>,\n",
       " ('Sport2', 'Athlete1'): <gurobi.Constr *Awaiting Model Update*>,\n",
       " ('Sport2', 'Athlete2'): <gurobi.Constr *Awaiting Model Update*>,\n",
       " ('Sport2', 'Athlete3'): <gurobi.Constr *Awaiting Model Update*>,\n",
       " ('Sport2', 'Athlete4'): <gurobi.Constr *Awaiting Model Update*>,\n",
       " ('Sport2', 'Athlete5'): <gurobi.Constr *Awaiting Model Update*>,\n",
       " ('Sport2', 'Athlete6'): <gurobi.Constr *Awaiting Model Update*>,\n",
       " ('Sport2', 'Athlete7'): <gurobi.Constr *Awaiting Model Update*>,\n",
       " ('Sport2', 'Athlete8'): <gurobi.Constr *Awaiting Model Update*>,\n",
       " ('Sport2', 'Athlete9'): <gurobi.Constr *Awaiting Model Update*>,\n",
       " ('Sport2', 'Athlete10'): <gurobi.Constr *Awaiting Model Update*>,\n",
       " ('Sport3', 'Athlete1'): <gurobi.Constr *Awaiting Model Update*>,\n",
       " ('Sport3', 'Athlete2'): <gurobi.Constr *Awaiting Model Update*>,\n",
       " ('Sport3', 'Athlete3'): <gurobi.Constr *Awaiting Model Update*>,\n",
       " ('Sport3', 'Athlete4'): <gurobi.Constr *Awaiting Model Update*>,\n",
       " ('Sport3', 'Athlete5'): <gurobi.Constr *Awaiting Model Update*>,\n",
       " ('Sport3', 'Athlete6'): <gurobi.Constr *Awaiting Model Update*>,\n",
       " ('Sport3', 'Athlete7'): <gurobi.Constr *Awaiting Model Update*>,\n",
       " ('Sport3', 'Athlete8'): <gurobi.Constr *Awaiting Model Update*>,\n",
       " ('Sport3', 'Athlete9'): <gurobi.Constr *Awaiting Model Update*>,\n",
       " ('Sport3', 'Athlete10'): <gurobi.Constr *Awaiting Model Update*>,\n",
       " ('Sport4', 'Athlete1'): <gurobi.Constr *Awaiting Model Update*>,\n",
       " ('Sport4', 'Athlete2'): <gurobi.Constr *Awaiting Model Update*>,\n",
       " ('Sport4', 'Athlete3'): <gurobi.Constr *Awaiting Model Update*>,\n",
       " ('Sport4', 'Athlete4'): <gurobi.Constr *Awaiting Model Update*>,\n",
       " ('Sport4', 'Athlete5'): <gurobi.Constr *Awaiting Model Update*>,\n",
       " ('Sport4', 'Athlete6'): <gurobi.Constr *Awaiting Model Update*>,\n",
       " ('Sport4', 'Athlete7'): <gurobi.Constr *Awaiting Model Update*>,\n",
       " ('Sport4', 'Athlete8'): <gurobi.Constr *Awaiting Model Update*>,\n",
       " ('Sport4', 'Athlete9'): <gurobi.Constr *Awaiting Model Update*>,\n",
       " ('Sport4', 'Athlete10'): <gurobi.Constr *Awaiting Model Update*>}"
      ]
     },
     "execution_count": 107,
     "metadata": {},
     "output_type": "execute_result"
    }
   ],
   "source": [
    "m.addConstrs(\n",
    "    (x.sum(sport, athlete, \"*\") <= 1 for sport in sports for athlete in athletes),\n",
    "    name=\"只可能是一种结果\",\n",
    ")"
   ]
  },
  {
   "cell_type": "code",
   "execution_count": 108,
   "metadata": {},
   "outputs": [],
   "source": [
    "m.setObjective(x.prod(probs), sense=GRB.MAXIMIZE)"
   ]
  },
  {
   "cell_type": "code",
   "execution_count": 109,
   "metadata": {},
   "outputs": [
    {
     "data": {
      "text/plain": [
       "<gurobi.Constr *Awaiting Model Update*>"
      ]
     },
     "execution_count": 109,
     "metadata": {},
     "output_type": "execute_result"
    }
   ],
   "source": [
    "m.addConstr(x.prod(scores) >= 236.2, name=\"团体总分约束\")"
   ]
  },
  {
   "cell_type": "code",
   "execution_count": 110,
   "metadata": {},
   "outputs": [
    {
     "name": "stdout",
     "output_type": "stream",
     "text": [
      "Gurobi Optimizer version 11.0.2 build v11.0.2rc0 (mac64[arm] - Darwin 23.4.0 23E224)\n",
      "\n",
      "CPU model: Apple M1 Pro\n",
      "Thread count: 8 physical cores, 8 logical processors, using up to 8 threads\n",
      "\n",
      "Optimize a model with 66 rows, 170 columns and 830 nonzeros\n",
      "Model fingerprint: 0xd3743691\n",
      "Variable types: 0 continuous, 170 integer (170 binary)\n",
      "Coefficient statistics:\n",
      "  Matrix range     [1e+00, 1e+01]\n",
      "  Objective range  [5e-02, 6e-01]\n",
      "  Bounds range     [1e+00, 1e+00]\n",
      "  RHS range        [1e+00, 2e+02]\n",
      "Presolve removed 5 rows and 79 columns\n",
      "Presolve time: 0.00s\n",
      "Presolved: 61 rows, 91 columns, 421 nonzeros\n",
      "Variable types: 0 continuous, 91 integer (91 binary)\n",
      "\n",
      "Root relaxation: objective 6.700000e+00, 56 iterations, 0.00 seconds (0.00 work units)\n",
      "\n",
      "    Nodes    |    Current Node    |     Objective Bounds      |     Work\n",
      " Expl Unexpl |  Obj  Depth IntInf | Incumbent    BestBd   Gap | It/Node Time\n",
      "\n",
      "     0     0    6.70000    0    5          -    6.70000      -     -    0s\n",
      "H    0     0                       4.4000000    6.70000  52.3%     -    0s\n",
      "     0     0    6.66667    0    7    4.40000    6.66667  51.5%     -    0s\n",
      "H    0     0                       4.9000000    6.66667  36.1%     -    0s\n",
      "H    0     0                       5.1000000    6.66667  30.7%     -    0s\n",
      "     0     0    5.73333    0    8    5.10000    5.73333  12.4%     -    0s\n",
      "H    0     0                       5.4000000    5.73333  6.17%     -    0s\n",
      "     0     0    5.50000    0    4    5.40000    5.50000  1.85%     -    0s\n",
      "\n",
      "Cutting planes:\n",
      "  Gomory: 1\n",
      "  Cover: 3\n",
      "  MIR: 2\n",
      "  GUB cover: 10\n",
      "\n",
      "Explored 1 nodes (107 simplex iterations) in 0.04 seconds (0.00 work units)\n",
      "Thread count was 8 (of 8 available processors)\n",
      "\n",
      "Solution count 4: 5.4 5.1 4.9 4.4 \n",
      "\n",
      "Optimal solution found (tolerance 1.00e-04)\n",
      "Best objective 5.400000000000e+00, best bound 5.400000000000e+00, gap 0.0000%\n"
     ]
    }
   ],
   "source": [
    "m.optimize()"
   ]
  },
  {
   "cell_type": "code",
   "execution_count": 111,
   "metadata": {},
   "outputs": [
    {
     "name": "stdout",
     "output_type": "stream",
     "text": [
      "Objective value: 5.4\n",
      "Optimal solution:\n",
      "x[Sport1,Athlete1,9.5] = 1.0\n",
      "x[Sport2,Athlete1,10] = 1.0\n",
      "x[Sport3,Athlete1,9.8] = 1.0\n",
      "x[Sport4,Athlete1,9.9] = 1.0\n",
      "x[Sport3,Athlete2,10] = 1.0\n",
      "x[Sport1,Athlete3,10] = 1.0\n",
      "x[Sport4,Athlete3,9.8] = 1.0\n",
      "x[Sport2,Athlete4,9.9] = 1.0\n",
      "x[Sport3,Athlete4,9.7] = 1.0\n",
      "x[Sport4,Athlete4,10] = 1.0\n",
      "x[Sport1,Athlete6,9.7] = 1.0\n",
      "x[Sport2,Athlete6,9.9] = 1.0\n",
      "x[Sport1,Athlete7,10] = 1.0\n",
      "x[Sport2,Athlete7,10] = 1.0\n",
      "x[Sport3,Athlete7,9.3] = 1.0\n",
      "x[Sport4,Athlete7,9.8] = 1.0\n",
      "x[Sport1,Athlete8,10] = 1.0\n",
      "x[Sport2,Athlete8,10] = 1.0\n",
      "x[Sport3,Athlete8,9.9] = 1.0\n",
      "x[Sport4,Athlete8,9.8] = 1.0\n",
      "x[Sport1,Athlete9,9.5] = 1.0\n",
      "x[Sport2,Athlete9,9.8] = 1.0\n",
      "x[Sport3,Athlete9,10] = 1.0\n",
      "x[Sport4,Athlete9,9.9] = 1.0\n",
      "y[Athlete1] = 1.0\n",
      "y[Athlete7] = 1.0\n",
      "y[Athlete8] = 1.0\n",
      "y[Athlete9] = 1.0\n"
     ]
    }
   ],
   "source": [
    "print(f\"Objective value: {m.ObjVal}\")\n",
    "print(\"Optimal solution:\")\n",
    "for i in m.getVars():\n",
    "    if i.X > 1e-6:\n",
    "        print(f\"{i.VarName} = {i.X}\", end=\"\\n\")"
   ]
  },
  {
   "cell_type": "code",
   "execution_count": null,
   "metadata": {},
   "outputs": [],
   "source": []
  }
 ],
 "metadata": {
  "kernelspec": {
   "display_name": "Python 3",
   "language": "python",
   "name": "python3"
  },
  "language_info": {
   "codemirror_mode": {
    "name": "ipython",
    "version": 3
   },
   "file_extension": ".py",
   "mimetype": "text/x-python",
   "name": "python",
   "nbconvert_exporter": "python",
   "pygments_lexer": "ipython3",
   "version": "3.12.3"
  }
 },
 "nbformat": 4,
 "nbformat_minor": 2
}
