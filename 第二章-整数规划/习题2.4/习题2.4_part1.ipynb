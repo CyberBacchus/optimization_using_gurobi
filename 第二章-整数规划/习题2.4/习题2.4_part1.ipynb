{
 "cells": [
  {
   "cell_type": "code",
   "execution_count": 1,
   "metadata": {},
   "outputs": [],
   "source": [
    "import numpy as np\n",
    "import pandas as pd\n",
    "import gurobipy as gp\n",
    "from gurobipy import GRB"
   ]
  },
  {
   "cell_type": "code",
   "execution_count": 2,
   "metadata": {},
   "outputs": [
    {
     "data": {
      "text/html": [
       "<div>\n",
       "<style scoped>\n",
       "    .dataframe tbody tr th:only-of-type {\n",
       "        vertical-align: middle;\n",
       "    }\n",
       "\n",
       "    .dataframe tbody tr th {\n",
       "        vertical-align: top;\n",
       "    }\n",
       "\n",
       "    .dataframe thead th {\n",
       "        text-align: right;\n",
       "    }\n",
       "</style>\n",
       "<table border=\"1\" class=\"dataframe\">\n",
       "  <thead>\n",
       "    <tr style=\"text-align: right;\">\n",
       "      <th></th>\n",
       "      <th>Athlete1</th>\n",
       "      <th>Athlete2</th>\n",
       "      <th>Athlete3</th>\n",
       "      <th>Athlete4</th>\n",
       "      <th>Athlete5</th>\n",
       "      <th>Athlete6</th>\n",
       "      <th>Athlete7</th>\n",
       "      <th>Athlete8</th>\n",
       "      <th>Athlete9</th>\n",
       "      <th>Athlete10</th>\n",
       "    </tr>\n",
       "  </thead>\n",
       "  <tbody>\n",
       "    <tr>\n",
       "      <th>Sport1</th>\n",
       "      <td>8.4~0.15 9.5~0.5 9.2~0.25 9.4~0.1</td>\n",
       "      <td>9.3~0.1 9.5~0.1 9.6~0.6 9.8~0.2</td>\n",
       "      <td>8.4~0.1 8.8~0.2 9.0~0.6 10~0.1</td>\n",
       "      <td>8.1~0.1 9.1~0.5 9.3~0.3 9.5~0.1</td>\n",
       "      <td>8.4~0.15 9.5~0.5 9.2~0.25 9.4~0.1</td>\n",
       "      <td>9.4~0.1 9.6~0.1 9.7~0.6 9.9~0.2</td>\n",
       "      <td>9.5~0.1 9.7~0.1 9.8~0.6 10~0.2</td>\n",
       "      <td>8.4~0.1 8.8~0.2 9.0~0.6 10~0.1</td>\n",
       "      <td>8.4~0.15 9.5~0.5 9.2~0.25 9.4~0.1</td>\n",
       "      <td>9.0~0.1 9.2~0.1 9.4~0.6 9.7~0.2</td>\n",
       "    </tr>\n",
       "    <tr>\n",
       "      <th>Sport2</th>\n",
       "      <td>8.4~0.1 8.8~0.2 9.0~0.6 10~0.1</td>\n",
       "      <td>8.4~0.15 9.0~0.5 9.2~0.25 9.4~0.1</td>\n",
       "      <td>8.1~0.1 9.1~0.5 9.3~0.3 9.5~0.1</td>\n",
       "      <td>8.7~0.1 8.9~0.2 9.1~0.6 9.9~0.1</td>\n",
       "      <td>9.0~0.1 9.2~0.1 9.4~0.6 9.7~0.2</td>\n",
       "      <td>8.7~0.1 8.9~0.2 9.1~0.6 9.9~0.1</td>\n",
       "      <td>8.4~0.1 8.8~0.2 9.0~0.6 10~0.1</td>\n",
       "      <td>8.8~0.05 9.2~0.05 9.8~0.5 10~0.4</td>\n",
       "      <td>8.4~0.1 8.8~0.1 9.2~0.6 9.8~0.2</td>\n",
       "      <td>8.1~0.1 9.1~0.5 9.3~0.3 9.5~0.1</td>\n",
       "    </tr>\n",
       "    <tr>\n",
       "      <th>Sport3</th>\n",
       "      <td>9.1~0.1 9.3~0.1 9.5~0.6 9.8~0.2</td>\n",
       "      <td>8.4~0.1 8.8~0.2 9.0~0.6 10~0.1</td>\n",
       "      <td>8.4~0.15 9.5~0.5 9.2~0.25 9.4~0.1</td>\n",
       "      <td>9.0~0.1 9.4~0.1 9.5~0.5 9.7~0.3</td>\n",
       "      <td>8.3~0.1 8.7~0.1 8.9~0.6 9.3~0.2</td>\n",
       "      <td>8.5~0.1 8.7~0.1 8.9~0.5 9.1~0.3</td>\n",
       "      <td>8.3~0.1 8.7~0.1 8.9~0.6 9.3~0.2</td>\n",
       "      <td>8.7~0.1 8.9~0.2 9.1~0.6 9.9~0.1</td>\n",
       "      <td>8.4~0.1 8.8~0.2 9.0~0.6 10~0.1</td>\n",
       "      <td>8.2~0.1 9.2~0.5 9.4~0.3 9.6~0.1</td>\n",
       "    </tr>\n",
       "    <tr>\n",
       "      <th>Sport4</th>\n",
       "      <td>8.7~0.1 8.9~0.2 9.1~0.6 9.9~0.1</td>\n",
       "      <td>8.9~0.1 9.1~0.1 9.3~0.6 9.6~0.2</td>\n",
       "      <td>9.5~0.1 9.7~0.1 9.8~0.6 10~0.2</td>\n",
       "      <td>8.4~0.1 8.8~0.2 9.0~0.6 10~0.1</td>\n",
       "      <td>9.4~0.1 9.6~0.1 9.7~0.6 9.9~0.2</td>\n",
       "      <td>8.4~0.15 9.5~0.5 9.2~0.25 9.4~0.1</td>\n",
       "      <td>8.4~0.1 8.8~0.1 9.2~0.6 9.8~0.2</td>\n",
       "      <td>8.2~0.1 9.3~0.5 9.5~0.3 9.8~0.1</td>\n",
       "      <td>9.3~0.1 9.5~0.1 9.7~0.5 9.9~0.3</td>\n",
       "      <td>9.1~0.1 9.3~0.1 9.5~0.6 9.8~0.2</td>\n",
       "    </tr>\n",
       "  </tbody>\n",
       "</table>\n",
       "</div>"
      ],
      "text/plain": [
       "                                 Athlete1                           Athlete2  \\\n",
       "Sport1  8.4~0.15 9.5~0.5 9.2~0.25 9.4~0.1    9.3~0.1 9.5~0.1 9.6~0.6 9.8~0.2   \n",
       "Sport2     8.4~0.1 8.8~0.2 9.0~0.6 10~0.1  8.4~0.15 9.0~0.5 9.2~0.25 9.4~0.1   \n",
       "Sport3    9.1~0.1 9.3~0.1 9.5~0.6 9.8~0.2     8.4~0.1 8.8~0.2 9.0~0.6 10~0.1   \n",
       "Sport4    8.7~0.1 8.9~0.2 9.1~0.6 9.9~0.1    8.9~0.1 9.1~0.1 9.3~0.6 9.6~0.2   \n",
       "\n",
       "                                 Athlete3                         Athlete4  \\\n",
       "Sport1     8.4~0.1 8.8~0.2 9.0~0.6 10~0.1  8.1~0.1 9.1~0.5 9.3~0.3 9.5~0.1   \n",
       "Sport2    8.1~0.1 9.1~0.5 9.3~0.3 9.5~0.1  8.7~0.1 8.9~0.2 9.1~0.6 9.9~0.1   \n",
       "Sport3  8.4~0.15 9.5~0.5 9.2~0.25 9.4~0.1  9.0~0.1 9.4~0.1 9.5~0.5 9.7~0.3   \n",
       "Sport4     9.5~0.1 9.7~0.1 9.8~0.6 10~0.2   8.4~0.1 8.8~0.2 9.0~0.6 10~0.1   \n",
       "\n",
       "                                 Athlete5                           Athlete6  \\\n",
       "Sport1  8.4~0.15 9.5~0.5 9.2~0.25 9.4~0.1    9.4~0.1 9.6~0.1 9.7~0.6 9.9~0.2   \n",
       "Sport2    9.0~0.1 9.2~0.1 9.4~0.6 9.7~0.2    8.7~0.1 8.9~0.2 9.1~0.6 9.9~0.1   \n",
       "Sport3    8.3~0.1 8.7~0.1 8.9~0.6 9.3~0.2    8.5~0.1 8.7~0.1 8.9~0.5 9.1~0.3   \n",
       "Sport4    9.4~0.1 9.6~0.1 9.7~0.6 9.9~0.2  8.4~0.15 9.5~0.5 9.2~0.25 9.4~0.1   \n",
       "\n",
       "                               Athlete7                          Athlete8  \\\n",
       "Sport1   9.5~0.1 9.7~0.1 9.8~0.6 10~0.2    8.4~0.1 8.8~0.2 9.0~0.6 10~0.1   \n",
       "Sport2   8.4~0.1 8.8~0.2 9.0~0.6 10~0.1  8.8~0.05 9.2~0.05 9.8~0.5 10~0.4   \n",
       "Sport3  8.3~0.1 8.7~0.1 8.9~0.6 9.3~0.2   8.7~0.1 8.9~0.2 9.1~0.6 9.9~0.1   \n",
       "Sport4  8.4~0.1 8.8~0.1 9.2~0.6 9.8~0.2   8.2~0.1 9.3~0.5 9.5~0.3 9.8~0.1   \n",
       "\n",
       "                                 Athlete9                        Athlete10  \n",
       "Sport1  8.4~0.15 9.5~0.5 9.2~0.25 9.4~0.1  9.0~0.1 9.2~0.1 9.4~0.6 9.7~0.2  \n",
       "Sport2    8.4~0.1 8.8~0.1 9.2~0.6 9.8~0.2  8.1~0.1 9.1~0.5 9.3~0.3 9.5~0.1  \n",
       "Sport3     8.4~0.1 8.8~0.2 9.0~0.6 10~0.1  8.2~0.1 9.2~0.5 9.4~0.3 9.6~0.1  \n",
       "Sport4    9.3~0.1 9.5~0.1 9.7~0.5 9.9~0.3  9.1~0.1 9.3~0.1 9.5~0.6 9.8~0.2  "
      ]
     },
     "execution_count": 2,
     "metadata": {},
     "output_type": "execute_result"
    }
   ],
   "source": [
    "df = pd.read_csv(\"2.4.csv\")\n",
    "athletes = df.columns\n",
    "sports = pd.Index((\"Sport1\", \"Sport2\", \"Sport3\", \"Sport4\"))\n",
    "df.index = sports\n",
    "df"
   ]
  },
  {
   "cell_type": "code",
   "execution_count": 3,
   "metadata": {},
   "outputs": [
    {
     "data": {
      "text/html": [
       "<div>\n",
       "<style scoped>\n",
       "    .dataframe tbody tr th:only-of-type {\n",
       "        vertical-align: middle;\n",
       "    }\n",
       "\n",
       "    .dataframe tbody tr th {\n",
       "        vertical-align: top;\n",
       "    }\n",
       "\n",
       "    .dataframe thead th {\n",
       "        text-align: right;\n",
       "    }\n",
       "</style>\n",
       "<table border=\"1\" class=\"dataframe\">\n",
       "  <thead>\n",
       "    <tr style=\"text-align: right;\">\n",
       "      <th></th>\n",
       "      <th>项目</th>\n",
       "      <th>运动员</th>\n",
       "      <th>得分~概率</th>\n",
       "    </tr>\n",
       "  </thead>\n",
       "  <tbody>\n",
       "    <tr>\n",
       "      <th>0</th>\n",
       "      <td>Sport1</td>\n",
       "      <td>Athlete1</td>\n",
       "      <td>8.4~0.15 9.5~0.5 9.2~0.25 9.4~0.1</td>\n",
       "    </tr>\n",
       "    <tr>\n",
       "      <th>1</th>\n",
       "      <td>Sport2</td>\n",
       "      <td>Athlete1</td>\n",
       "      <td>8.4~0.1 8.8~0.2 9.0~0.6 10~0.1</td>\n",
       "    </tr>\n",
       "    <tr>\n",
       "      <th>2</th>\n",
       "      <td>Sport3</td>\n",
       "      <td>Athlete1</td>\n",
       "      <td>9.1~0.1 9.3~0.1 9.5~0.6 9.8~0.2</td>\n",
       "    </tr>\n",
       "    <tr>\n",
       "      <th>3</th>\n",
       "      <td>Sport4</td>\n",
       "      <td>Athlete1</td>\n",
       "      <td>8.7~0.1 8.9~0.2 9.1~0.6 9.9~0.1</td>\n",
       "    </tr>\n",
       "    <tr>\n",
       "      <th>4</th>\n",
       "      <td>Sport1</td>\n",
       "      <td>Athlete2</td>\n",
       "      <td>9.3~0.1 9.5~0.1 9.6~0.6 9.8~0.2</td>\n",
       "    </tr>\n",
       "  </tbody>\n",
       "</table>\n",
       "</div>"
      ],
      "text/plain": [
       "       项目       运动员                              得分~概率\n",
       "0  Sport1  Athlete1  8.4~0.15 9.5~0.5 9.2~0.25 9.4~0.1\n",
       "1  Sport2  Athlete1     8.4~0.1 8.8~0.2 9.0~0.6 10~0.1\n",
       "2  Sport3  Athlete1    9.1~0.1 9.3~0.1 9.5~0.6 9.8~0.2\n",
       "3  Sport4  Athlete1    8.7~0.1 8.9~0.2 9.1~0.6 9.9~0.1\n",
       "4  Sport1  Athlete2    9.3~0.1 9.5~0.1 9.6~0.6 9.8~0.2"
      ]
     },
     "execution_count": 3,
     "metadata": {},
     "output_type": "execute_result"
    }
   ],
   "source": [
    "df_long = pd.melt(\n",
    "    df.reset_index(), id_vars=\"index\", var_name=\"运动员\", value_name=\"得分~概率\"\n",
    ")\n",
    "df_long.columns = [\"项目\", \"运动员\", \"得分~概率\"]\n",
    "df_long.head()"
   ]
  },
  {
   "cell_type": "code",
   "execution_count": 4,
   "metadata": {},
   "outputs": [
    {
     "data": {
      "text/html": [
       "<div>\n",
       "<style scoped>\n",
       "    .dataframe tbody tr th:only-of-type {\n",
       "        vertical-align: middle;\n",
       "    }\n",
       "\n",
       "    .dataframe tbody tr th {\n",
       "        vertical-align: top;\n",
       "    }\n",
       "\n",
       "    .dataframe thead th {\n",
       "        text-align: right;\n",
       "    }\n",
       "</style>\n",
       "<table border=\"1\" class=\"dataframe\">\n",
       "  <thead>\n",
       "    <tr style=\"text-align: right;\">\n",
       "      <th></th>\n",
       "      <th>项目</th>\n",
       "      <th>运动员</th>\n",
       "      <th>得分</th>\n",
       "      <th>概率</th>\n",
       "    </tr>\n",
       "  </thead>\n",
       "  <tbody>\n",
       "    <tr>\n",
       "      <th>0</th>\n",
       "      <td>Sport1</td>\n",
       "      <td>Athlete1</td>\n",
       "      <td>8.4</td>\n",
       "      <td>0.15</td>\n",
       "    </tr>\n",
       "    <tr>\n",
       "      <th>1</th>\n",
       "      <td>Sport1</td>\n",
       "      <td>Athlete1</td>\n",
       "      <td>9.5</td>\n",
       "      <td>0.5</td>\n",
       "    </tr>\n",
       "    <tr>\n",
       "      <th>2</th>\n",
       "      <td>Sport1</td>\n",
       "      <td>Athlete1</td>\n",
       "      <td>9.2</td>\n",
       "      <td>0.25</td>\n",
       "    </tr>\n",
       "    <tr>\n",
       "      <th>3</th>\n",
       "      <td>Sport1</td>\n",
       "      <td>Athlete1</td>\n",
       "      <td>9.4</td>\n",
       "      <td>0.1</td>\n",
       "    </tr>\n",
       "    <tr>\n",
       "      <th>4</th>\n",
       "      <td>Sport2</td>\n",
       "      <td>Athlete1</td>\n",
       "      <td>8.4</td>\n",
       "      <td>0.1</td>\n",
       "    </tr>\n",
       "  </tbody>\n",
       "</table>\n",
       "</div>"
      ],
      "text/plain": [
       "       项目       运动员   得分    概率\n",
       "0  Sport1  Athlete1  8.4  0.15\n",
       "1  Sport1  Athlete1  9.5   0.5\n",
       "2  Sport1  Athlete1  9.2  0.25\n",
       "3  Sport1  Athlete1  9.4   0.1\n",
       "4  Sport2  Athlete1  8.4   0.1"
      ]
     },
     "execution_count": 4,
     "metadata": {},
     "output_type": "execute_result"
    }
   ],
   "source": [
    "from decimal import Decimal\n",
    "\n",
    "\n",
    "expanded_data = []\n",
    "\n",
    "for i, row in df_long.iterrows():\n",
    "    for item in row[\"得分~概率\"].split(\" \"):\n",
    "        score, prob = map(Decimal, item.split(\"~\"))\n",
    "        expanded_data.append(\n",
    "            {\"项目\": row[\"项目\"], \"运动员\": row[\"运动员\"], \"得分\": score, \"概率\": prob}\n",
    "        )\n",
    "expanded_df = pd.DataFrame(expanded_data)\n",
    "expanded_df.head()"
   ]
  },
  {
   "cell_type": "code",
   "execution_count": 5,
   "metadata": {},
   "outputs": [
    {
     "name": "stderr",
     "output_type": "stream",
     "text": [
      "/var/folders/n_/d82sr3dd4jgfqk4vk5sblcn80000gn/T/ipykernel_89197/3987200986.py:4: DeprecationWarning: DataFrameGroupBy.apply operated on the grouping columns. This behavior is deprecated, and in a future version of pandas the grouping columns will be excluded from the operation. Either pass `include_groups=False` to exclude the groupings or explicitly select the grouping columns after groupby to silence this warning.\n",
      "  .apply(\n"
     ]
    },
    {
     "data": {
      "text/html": [
       "<div>\n",
       "<style scoped>\n",
       "    .dataframe tbody tr th:only-of-type {\n",
       "        vertical-align: middle;\n",
       "    }\n",
       "\n",
       "    .dataframe tbody tr th {\n",
       "        vertical-align: top;\n",
       "    }\n",
       "\n",
       "    .dataframe thead th {\n",
       "        text-align: right;\n",
       "    }\n",
       "</style>\n",
       "<table border=\"1\" class=\"dataframe\">\n",
       "  <thead>\n",
       "    <tr style=\"text-align: right;\">\n",
       "      <th></th>\n",
       "      <th>项目</th>\n",
       "      <th>运动员</th>\n",
       "      <th>最低得分</th>\n",
       "      <th>期望平均分</th>\n",
       "    </tr>\n",
       "  </thead>\n",
       "  <tbody>\n",
       "    <tr>\n",
       "      <th>0</th>\n",
       "      <td>Sport1</td>\n",
       "      <td>Athlete1</td>\n",
       "      <td>8.4</td>\n",
       "      <td>9.250</td>\n",
       "    </tr>\n",
       "    <tr>\n",
       "      <th>1</th>\n",
       "      <td>Sport1</td>\n",
       "      <td>Athlete10</td>\n",
       "      <td>9.0</td>\n",
       "      <td>9.40</td>\n",
       "    </tr>\n",
       "    <tr>\n",
       "      <th>2</th>\n",
       "      <td>Sport1</td>\n",
       "      <td>Athlete2</td>\n",
       "      <td>9.3</td>\n",
       "      <td>9.60</td>\n",
       "    </tr>\n",
       "    <tr>\n",
       "      <th>3</th>\n",
       "      <td>Sport1</td>\n",
       "      <td>Athlete3</td>\n",
       "      <td>8.4</td>\n",
       "      <td>9.00</td>\n",
       "    </tr>\n",
       "    <tr>\n",
       "      <th>4</th>\n",
       "      <td>Sport1</td>\n",
       "      <td>Athlete4</td>\n",
       "      <td>8.1</td>\n",
       "      <td>9.10</td>\n",
       "    </tr>\n",
       "  </tbody>\n",
       "</table>\n",
       "</div>"
      ],
      "text/plain": [
       "       项目        运动员 最低得分  期望平均分\n",
       "0  Sport1   Athlete1  8.4  9.250\n",
       "1  Sport1  Athlete10  9.0   9.40\n",
       "2  Sport1   Athlete2  9.3   9.60\n",
       "3  Sport1   Athlete3  8.4   9.00\n",
       "4  Sport1   Athlete4  8.1   9.10"
      ]
     },
     "execution_count": 5,
     "metadata": {},
     "output_type": "execute_result"
    }
   ],
   "source": [
    "# 计算最低得分和期望平均分\n",
    "summary_stats = (\n",
    "    expanded_df.groupby([\"项目\", \"运动员\"])\n",
    "    .apply(\n",
    "        lambda x: pd.Series(\n",
    "            {\"最低得分\": x[\"得分\"].min(), \"期望平均分\": (x[\"得分\"] * x[\"概率\"]).sum()}\n",
    "        )\n",
    "    )\n",
    "    .reset_index()\n",
    ")\n",
    "summary_stats.head()"
   ]
  },
  {
   "cell_type": "code",
   "execution_count": 6,
   "metadata": {},
   "outputs": [],
   "source": [
    "combos, low, mean = gp.multidict(\n",
    "    {\n",
    "        (row[\"项目\"], row[\"运动员\"]): [row[\"最低得分\"], row[\"期望平均分\"]]\n",
    "        for _, row in summary_stats.iterrows()\n",
    "    }\n",
    ")"
   ]
  },
  {
   "cell_type": "code",
   "execution_count": 7,
   "metadata": {},
   "outputs": [],
   "source": [
    "m = gp.Model()"
   ]
  },
  {
   "cell_type": "code",
   "execution_count": 8,
   "metadata": {},
   "outputs": [],
   "source": [
    "x = m.addVars(combos, vtype=GRB.BINARY, name=\"x\")"
   ]
  },
  {
   "cell_type": "code",
   "execution_count": 9,
   "metadata": {},
   "outputs": [],
   "source": [
    "# y_i==1: 第j人参加全能比赛\n",
    "y = m.addVars(athletes, vtype=GRB.BINARY, name=\"y\")"
   ]
  },
  {
   "cell_type": "markdown",
   "metadata": {},
   "source": [
    "## 选手得分按最悲观估算"
   ]
  },
  {
   "cell_type": "code",
   "execution_count": 10,
   "metadata": {},
   "outputs": [],
   "source": [
    "m.setObjective(x.prod(low), sense=GRB.MAXIMIZE)"
   ]
  },
  {
   "cell_type": "code",
   "execution_count": 11,
   "metadata": {},
   "outputs": [
    {
     "data": {
      "text/plain": [
       "Index(['Athlete1', 'Athlete2', 'Athlete3', 'Athlete4', 'Athlete5', 'Athlete6',\n",
       "       'Athlete7', 'Athlete8', 'Athlete9', 'Athlete10'],\n",
       "      dtype='object')"
      ]
     },
     "execution_count": 11,
     "metadata": {},
     "output_type": "execute_result"
    }
   ],
   "source": [
    "athletes"
   ]
  },
  {
   "cell_type": "code",
   "execution_count": 12,
   "metadata": {},
   "outputs": [
    {
     "data": {
      "text/plain": [
       "{'Athlete1': <gurobi.Constr *Awaiting Model Update*>,\n",
       " 'Athlete2': <gurobi.Constr *Awaiting Model Update*>,\n",
       " 'Athlete3': <gurobi.Constr *Awaiting Model Update*>,\n",
       " 'Athlete4': <gurobi.Constr *Awaiting Model Update*>,\n",
       " 'Athlete5': <gurobi.Constr *Awaiting Model Update*>,\n",
       " 'Athlete6': <gurobi.Constr *Awaiting Model Update*>,\n",
       " 'Athlete7': <gurobi.Constr *Awaiting Model Update*>,\n",
       " 'Athlete8': <gurobi.Constr *Awaiting Model Update*>,\n",
       " 'Athlete9': <gurobi.Constr *Awaiting Model Update*>,\n",
       " 'Athlete10': <gurobi.Constr *Awaiting Model Update*>}"
      ]
     },
     "execution_count": 12,
     "metadata": {},
     "output_type": "execute_result"
    }
   ],
   "source": [
    "m.addConstrs(\n",
    "    (x.sum(\"*\", athlete) <= 3 + y[athlete] for athlete in athletes),\n",
    "    name=\"是否参加全能比赛上限约束\",\n",
    ")\n",
    "m.addConstrs(\n",
    "    (4 * y[athlete] <= x.sum(\"*\", athlete) for athlete in athletes),\n",
    "    name=\"是否参加全能比赛下限约束\",\n",
    ")"
   ]
  },
  {
   "cell_type": "code",
   "execution_count": 13,
   "metadata": {},
   "outputs": [
    {
     "data": {
      "text/plain": [
       "{'Sport1': <gurobi.Constr *Awaiting Model Update*>,\n",
       " 'Sport2': <gurobi.Constr *Awaiting Model Update*>,\n",
       " 'Sport3': <gurobi.Constr *Awaiting Model Update*>,\n",
       " 'Sport4': <gurobi.Constr *Awaiting Model Update*>}"
      ]
     },
     "execution_count": 13,
     "metadata": {},
     "output_type": "execute_result"
    }
   ],
   "source": [
    "m.addConstrs((x.sum(sport, \"*\") == 6 for sport in sports), name=\"每个项目最多出场六人\")"
   ]
  },
  {
   "cell_type": "code",
   "execution_count": 14,
   "metadata": {},
   "outputs": [
    {
     "data": {
      "text/plain": [
       "<gurobi.Constr *Awaiting Model Update*>"
      ]
     },
     "execution_count": 14,
     "metadata": {},
     "output_type": "execute_result"
    }
   ],
   "source": [
    "m.addConstr(y.sum() == 4, name=\"应有四人参加全能比赛\")"
   ]
  },
  {
   "cell_type": "code",
   "execution_count": 15,
   "metadata": {},
   "outputs": [
    {
     "name": "stdout",
     "output_type": "stream",
     "text": [
      "Gurobi Optimizer version 11.0.2 build v11.0.2rc0 (mac64[arm] - Darwin 23.4.0 23E224)\n",
      "\n",
      "CPU model: Apple M1 Pro\n",
      "Thread count: 8 physical cores, 8 logical processors, using up to 8 threads\n",
      "\n",
      "Optimize a model with 25 rows, 50 columns and 150 nonzeros\n",
      "Model fingerprint: 0x0ee617dc\n",
      "Variable types: 0 continuous, 50 integer (50 binary)\n",
      "Coefficient statistics:\n",
      "  Matrix range     [1e+00, 4e+00]\n",
      "  Objective range  [8e+00, 1e+01]\n",
      "  Bounds range     [1e+00, 1e+00]\n",
      "  RHS range        [3e+00, 6e+00]\n",
      "Found heuristic solution: objective 208.2000000\n",
      "Presolve time: 0.00s\n",
      "Presolved: 25 rows, 50 columns, 150 nonzeros\n",
      "Variable types: 0 continuous, 50 integer (50 binary)\n",
      "Found heuristic solution: objective 211.7000000\n",
      "\n",
      "Root relaxation: objective 2.130000e+02, 16 iterations, 0.00 seconds (0.00 work units)\n",
      "\n",
      "    Nodes    |    Current Node    |     Objective Bounds      |     Work\n",
      " Expl Unexpl |  Obj  Depth IntInf | Incumbent    BestBd   Gap | It/Node Time\n",
      "\n",
      "     0     0  213.00000    0    7  211.70000  213.00000  0.61%     -    0s\n",
      "H    0     0                     212.3000000  213.00000  0.33%     -    0s\n",
      "     0     0  213.00000    0    3  212.30000  213.00000  0.33%     -    0s\n",
      "     0     0  212.90000    0    8  212.30000  212.90000  0.28%     -    0s\n",
      "     0     0  212.70000    0   10  212.30000  212.70000  0.19%     -    0s\n",
      "\n",
      "Cutting planes:\n",
      "  Cover: 10\n",
      "  Clique: 4\n",
      "  MIR: 7\n",
      "  Inf proof: 1\n",
      "\n",
      "Explored 1 nodes (50 simplex iterations) in 0.06 seconds (0.00 work units)\n",
      "Thread count was 8 (of 8 available processors)\n",
      "\n",
      "Solution count 3: 212.3 211.7 208.2 \n",
      "\n",
      "Optimal solution found (tolerance 1.00e-04)\n",
      "Best objective 2.123000000000e+02, best bound 2.123000000000e+02, gap 0.0000%\n"
     ]
    }
   ],
   "source": [
    "m.optimize()"
   ]
  },
  {
   "cell_type": "code",
   "execution_count": 16,
   "metadata": {},
   "outputs": [
    {
     "name": "stdout",
     "output_type": "stream",
     "text": [
      "Objective value: 212.30000000000004\n",
      "Optimal solution:\n",
      "x[Sport1,Athlete10] = 1.0\n",
      "x[Sport1,Athlete2] = 1.0\n",
      "x[Sport1,Athlete5] = 1.0\n",
      "x[Sport1,Athlete6] = 1.0\n",
      "x[Sport1,Athlete7] = 1.0\n",
      "x[Sport1,Athlete9] = 1.0\n",
      "x[Sport2,Athlete2] = 1.0\n",
      "x[Sport2,Athlete4] = 1.0\n",
      "x[Sport2,Athlete5] = 1.0\n",
      "x[Sport2,Athlete6] = 1.0\n",
      "x[Sport2,Athlete8] = 1.0\n",
      "x[Sport2,Athlete9] = 1.0\n",
      "x[Sport3,Athlete1] = 1.0\n",
      "x[Sport3,Athlete2] = 1.0\n",
      "x[Sport3,Athlete4] = 1.0\n",
      "x[Sport3,Athlete5] = 1.0\n",
      "x[Sport3,Athlete6] = 1.0\n",
      "x[Sport3,Athlete9] = 1.0\n",
      "x[Sport4,Athlete10] = 1.0\n",
      "x[Sport4,Athlete2] = 1.0\n",
      "x[Sport4,Athlete3] = 1.0\n",
      "x[Sport4,Athlete5] = 1.0\n",
      "x[Sport4,Athlete6] = 1.0\n",
      "x[Sport4,Athlete9] = 1.0\n",
      "y[Athlete2] = 1.0\n",
      "y[Athlete5] = 1.0\n",
      "y[Athlete6] = 1.0\n",
      "y[Athlete9] = 1.0\n"
     ]
    }
   ],
   "source": [
    "print(f\"Objective value: {m.ObjVal}\")\n",
    "print(\"Optimal solution:\")\n",
    "for i in m.getVars():\n",
    "    if i.X > 1e-6:\n",
    "        print(f\"{i.VarName} = {i.X}\", end=\"\\n\")"
   ]
  },
  {
   "cell_type": "markdown",
   "metadata": {},
   "source": [
    "## 选手得分按均值估算"
   ]
  },
  {
   "cell_type": "code",
   "execution_count": 17,
   "metadata": {},
   "outputs": [],
   "source": [
    "m.setObjective(x.prod(mean), sense=GRB.MAXIMIZE)"
   ]
  },
  {
   "cell_type": "code",
   "execution_count": 18,
   "metadata": {},
   "outputs": [
    {
     "name": "stdout",
     "output_type": "stream",
     "text": [
      "Gurobi Optimizer version 11.0.2 build v11.0.2rc0 (mac64[arm] - Darwin 23.4.0 23E224)\n",
      "\n",
      "CPU model: Apple M1 Pro\n",
      "Thread count: 8 physical cores, 8 logical processors, using up to 8 threads\n",
      "\n",
      "Optimize a model with 25 rows, 50 columns and 150 nonzeros\n",
      "Model fingerprint: 0x64adea5d\n",
      "Variable types: 0 continuous, 50 integer (50 binary)\n",
      "Coefficient statistics:\n",
      "  Matrix range     [1e+00, 4e+00]\n",
      "  Objective range  [9e+00, 1e+01]\n",
      "  Bounds range     [1e+00, 1e+00]\n",
      "  RHS range        [3e+00, 6e+00]\n",
      "\n",
      "Loaded MIP start from previous solve with objective 224.65\n",
      "\n",
      "Presolve time: 0.00s\n",
      "Presolved: 25 rows, 50 columns, 150 nonzeros\n",
      "Variable types: 0 continuous, 50 integer (50 binary)\n",
      "\n",
      "Root relaxation: objective 2.255500e+02, 13 iterations, 0.00 seconds (0.00 work units)\n",
      "\n",
      "    Nodes    |    Current Node    |     Objective Bounds      |     Work\n",
      " Expl Unexpl |  Obj  Depth IntInf | Incumbent    BestBd   Gap | It/Node Time\n",
      "\n",
      "     0     0  225.55000    0    6  224.65000  225.55000  0.40%     -    0s\n",
      "H    0     0                     224.7500000  225.55000  0.36%     -    0s\n",
      "H    0     0                     224.9500000  225.55000  0.27%     -    0s\n",
      "H    0     0                     225.0500000  225.55000  0.22%     -    0s\n",
      "     0     0  225.55000    0    4  225.05000  225.55000  0.22%     -    0s\n",
      "     0     0  225.30000    0   10  225.05000  225.30000  0.11%     -    0s\n",
      "H    0     0                     225.1000000  225.30000  0.09%     -    0s\n",
      "     0     0     cutoff    0       225.10000  225.10000  0.00%     -    0s\n",
      "\n",
      "Cutting planes:\n",
      "  Gomory: 1\n",
      "  Cover: 8\n",
      "  Clique: 2\n",
      "  MIR: 4\n",
      "\n",
      "Explored 1 nodes (40 simplex iterations) in 0.02 seconds (0.00 work units)\n",
      "Thread count was 8 (of 8 available processors)\n",
      "\n",
      "Solution count 5: 225.1 225.05 224.95 ... 224.65\n",
      "\n",
      "Optimal solution found (tolerance 1.00e-04)\n",
      "Best objective 2.251000000000e+02, best bound 2.251000000000e+02, gap 0.0000%\n"
     ]
    }
   ],
   "source": [
    "m.optimize()"
   ]
  },
  {
   "cell_type": "code",
   "execution_count": 19,
   "metadata": {},
   "outputs": [
    {
     "name": "stdout",
     "output_type": "stream",
     "text": [
      "Objective value: 225.1\n",
      "Optimal solution:\n",
      "x[Sport1,Athlete10] = 1.0\n",
      "x[Sport1,Athlete2] = 1.0\n",
      "x[Sport1,Athlete3] = 1.0\n",
      "x[Sport1,Athlete6] = 1.0\n",
      "x[Sport1,Athlete7] = 1.0\n",
      "x[Sport1,Athlete9] = 1.0\n",
      "x[Sport2,Athlete10] = 1.0\n",
      "x[Sport2,Athlete2] = 1.0\n",
      "x[Sport2,Athlete3] = 1.0\n",
      "x[Sport2,Athlete5] = 1.0\n",
      "x[Sport2,Athlete8] = 1.0\n",
      "x[Sport2,Athlete9] = 1.0\n",
      "x[Sport3,Athlete1] = 1.0\n",
      "x[Sport3,Athlete10] = 1.0\n",
      "x[Sport3,Athlete2] = 1.0\n",
      "x[Sport3,Athlete3] = 1.0\n",
      "x[Sport3,Athlete4] = 1.0\n",
      "x[Sport3,Athlete9] = 1.0\n",
      "x[Sport4,Athlete10] = 1.0\n",
      "x[Sport4,Athlete2] = 1.0\n",
      "x[Sport4,Athlete3] = 1.0\n",
      "x[Sport4,Athlete5] = 1.0\n",
      "x[Sport4,Athlete8] = 1.0\n",
      "x[Sport4,Athlete9] = 1.0\n",
      "y[Athlete2] = 1.0\n",
      "y[Athlete3] = 1.0\n",
      "y[Athlete9] = 1.0\n",
      "y[Athlete10] = 1.0\n"
     ]
    }
   ],
   "source": [
    "print(f\"Objective value: {m.ObjVal}\")\n",
    "print(\"Optimal solution:\")\n",
    "for i in m.getVars():\n",
    "    if i.X > 1e-6:\n",
    "        print(f\"{i.VarName} = {i.X}\", end=\"\\n\")"
   ]
  }
 ],
 "metadata": {
  "kernelspec": {
   "display_name": "Python 3",
   "language": "python",
   "name": "python3"
  },
  "language_info": {
   "codemirror_mode": {
    "name": "ipython",
    "version": 3
   },
   "file_extension": ".py",
   "mimetype": "text/x-python",
   "name": "python",
   "nbconvert_exporter": "python",
   "pygments_lexer": "ipython3",
   "version": "3.12.3"
  }
 },
 "nbformat": 4,
 "nbformat_minor": 2
}
