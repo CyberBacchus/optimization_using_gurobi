{
 "cells": [
  {
   "cell_type": "code",
   "execution_count": 86,
   "metadata": {},
   "outputs": [],
   "source": [
    "import pandas as pd\n",
    "import gurobipy as gp\n",
    "from gurobipy import GRB"
   ]
  },
  {
   "cell_type": "code",
   "execution_count": 87,
   "metadata": {},
   "outputs": [],
   "source": [
    "combos, costs = gp.multidict(\n",
    "    {\n",
    "        (\"A\", \"1\"): 15,\n",
    "        (\"A\", \"2\"): 13.8,\n",
    "        (\"A\", \"3\"): 12.5,\n",
    "        (\"A\", \"4\"): 11,\n",
    "        (\"A\", \"5\"): 14.3,\n",
    "        (\"B\", \"1\"): 14.5,\n",
    "        (\"B\", \"2\"): 14,\n",
    "        (\"B\", \"3\"): 13.2,\n",
    "        (\"B\", \"4\"): 10.5,\n",
    "        (\"B\", \"5\"): 15,\n",
    "        (\"C\", \"1\"): 13.8,\n",
    "        (\"C\", \"2\"): 13,\n",
    "        (\"C\", \"3\"): 12.8,\n",
    "        (\"C\", \"4\"): 11.3,\n",
    "        (\"C\", \"5\"): 14.6,\n",
    "        (\"D\", \"1\"): 14.7,\n",
    "        (\"D\", \"2\"): 13.6,\n",
    "        (\"D\", \"3\"): 13,\n",
    "        (\"D\", \"4\"): 11.6,\n",
    "        (\"D\", \"5\"): 14,\n",
    "    }\n",
    ")"
   ]
  },
  {
   "cell_type": "code",
   "execution_count": 88,
   "metadata": {},
   "outputs": [],
   "source": [
    "combos_df = pd.DataFrame(combos)\n",
    "companies = [i for i in combos_df[0].unique()]\n",
    "shops = [i for i in combos_df[1].unique()]"
   ]
  },
  {
   "cell_type": "code",
   "execution_count": 89,
   "metadata": {},
   "outputs": [],
   "source": [
    "m = gp.Model()"
   ]
  },
  {
   "cell_type": "code",
   "execution_count": 90,
   "metadata": {},
   "outputs": [],
   "source": [
    "x = m.addVars(combos, vtype=GRB.BINARY, name=\"x\")"
   ]
  },
  {
   "cell_type": "code",
   "execution_count": 91,
   "metadata": {},
   "outputs": [],
   "source": [
    "m.setObjective(x.prod(costs))"
   ]
  },
  {
   "cell_type": "code",
   "execution_count": 92,
   "metadata": {},
   "outputs": [
    {
     "data": {
      "text/plain": [
       "{'A': <gurobi.Constr *Awaiting Model Update*>,\n",
       " 'B': <gurobi.Constr *Awaiting Model Update*>,\n",
       " 'C': <gurobi.Constr *Awaiting Model Update*>,\n",
       " 'D': <gurobi.Constr *Awaiting Model Update*>}"
      ]
     },
     "execution_count": 92,
     "metadata": {},
     "output_type": "execute_result"
    }
   ],
   "source": [
    "m.addConstrs((x.sum(company, \"*\") <= 2 for company in companies), name=\"公司限制\")"
   ]
  },
  {
   "cell_type": "code",
   "execution_count": 93,
   "metadata": {},
   "outputs": [
    {
     "data": {
      "text/plain": [
       "{'1': <gurobi.Constr *Awaiting Model Update*>,\n",
       " '2': <gurobi.Constr *Awaiting Model Update*>,\n",
       " '3': <gurobi.Constr *Awaiting Model Update*>,\n",
       " '4': <gurobi.Constr *Awaiting Model Update*>,\n",
       " '5': <gurobi.Constr *Awaiting Model Update*>}"
      ]
     },
     "execution_count": 93,
     "metadata": {},
     "output_type": "execute_result"
    }
   ],
   "source": [
    "m.addConstrs((x.sum(\"*\", shop) == 1 for shop in shops), name=\"门店限制\")"
   ]
  },
  {
   "cell_type": "code",
   "execution_count": 94,
   "metadata": {},
   "outputs": [],
   "source": [
    "m.write(\"IP.lp\")"
   ]
  },
  {
   "cell_type": "code",
   "execution_count": 95,
   "metadata": {},
   "outputs": [
    {
     "name": "stdout",
     "output_type": "stream",
     "text": [
      "Gurobi Optimizer version 11.0.1 build v11.0.1rc0 (mac64[arm] - Darwin 23.4.0 23E224)\n",
      "\n",
      "CPU model: Apple M1 Pro\n",
      "Thread count: 8 physical cores, 8 logical processors, using up to 8 threads\n",
      "\n",
      "Optimize a model with 9 rows, 20 columns and 40 nonzeros\n",
      "Model fingerprint: 0x1753dfe0\n",
      "Variable types: 0 continuous, 20 integer (20 binary)\n",
      "Coefficient statistics:\n",
      "  Matrix range     [1e+00, 1e+00]\n",
      "  Objective range  [1e+01, 2e+01]\n",
      "  Bounds range     [1e+00, 1e+00]\n",
      "  RHS range        [1e+00, 2e+00]\n",
      "Found heuristic solution: objective 65.0000000\n",
      "Presolve time: 0.00s\n",
      "Presolved: 9 rows, 20 columns, 40 nonzeros\n",
      "Variable types: 0 continuous, 20 integer (20 binary)\n",
      "Found heuristic solution: objective 63.8000000\n",
      "\n",
      "Root relaxation: cutoff, 5 iterations, 0.00 seconds (0.00 work units)\n",
      "\n",
      "    Nodes    |    Current Node    |     Objective Bounds      |     Work\n",
      " Expl Unexpl |  Obj  Depth IntInf | Incumbent    BestBd   Gap | It/Node Time\n",
      "\n",
      "     0     0     cutoff    0        63.80000   63.80000  0.00%     -    0s\n",
      "\n",
      "Explored 1 nodes (5 simplex iterations) in 0.02 seconds (0.00 work units)\n",
      "Thread count was 8 (of 8 available processors)\n",
      "\n",
      "Solution count 2: 63.8 65 \n",
      "\n",
      "Optimal solution found (tolerance 1.00e-04)\n",
      "Best objective 6.380000000000e+01, best bound 6.380000000000e+01, gap 0.0000%\n"
     ]
    }
   ],
   "source": [
    "m.optimize()"
   ]
  },
  {
   "cell_type": "code",
   "execution_count": 96,
   "metadata": {},
   "outputs": [
    {
     "name": "stdout",
     "output_type": "stream",
     "text": [
      "Objective value: 63.8\n",
      "Optimal solution:\n",
      "x[A,3] = 1.0\n",
      "x[B,4] = 1.0\n",
      "x[C,1] = 1.0\n",
      "x[C,2] = 1.0\n",
      "x[D,5] = 1.0\n"
     ]
    }
   ],
   "source": [
    "print(f\"Objective value: {m.ObjVal}\")\n",
    "print(\"Optimal solution:\")\n",
    "for i in m.getVars():\n",
    "    if i.X > 1e-6:\n",
    "        print(f\"{i.VarName} = {i.X}\", end=\"\\n\")"
   ]
  }
 ],
 "metadata": {
  "kernelspec": {
   "display_name": "Python 3",
   "language": "python",
   "name": "python3"
  },
  "language_info": {
   "codemirror_mode": {
    "name": "ipython",
    "version": 3
   },
   "file_extension": ".py",
   "mimetype": "text/x-python",
   "name": "python",
   "nbconvert_exporter": "python",
   "pygments_lexer": "ipython3",
   "version": "3.12.3"
  }
 },
 "nbformat": 4,
 "nbformat_minor": 2
}
