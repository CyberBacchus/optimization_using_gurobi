{
 "cells": [
  {
   "cell_type": "code",
   "execution_count": 34,
   "metadata": {},
   "outputs": [],
   "source": [
    "from gurobipy import Model, GRB, QuadExpr\n",
    "\n",
    "m = Model(\"nonlinear_integer_programming\")"
   ]
  },
  {
   "cell_type": "code",
   "execution_count": 35,
   "metadata": {},
   "outputs": [],
   "source": [
    "x = m.addVars(5, vtype=GRB.INTEGER, lb=0, ub=99, name=\"x\")"
   ]
  },
  {
   "cell_type": "code",
   "execution_count": 36,
   "metadata": {},
   "outputs": [
    {
     "data": {
      "text/plain": [
       "<gurobi.QuadExpr: -8.0 <gurobi.Var *Awaiting Model Update*> + -2.0 <gurobi.Var *Awaiting Model Update*> + -3.0 <gurobi.Var *Awaiting Model Update*> + -1.0 <gurobi.Var *Awaiting Model Update*> + -2.0 <gurobi.Var *Awaiting Model Update*> + [ <gurobi.Var *Awaiting Model Update*> ^ 2 + <gurobi.Var *Awaiting Model Update*> ^ 2 + 3.0 <gurobi.Var *Awaiting Model Update*> ^ 2 + 4.0 <gurobi.Var *Awaiting Model Update*> ^ 2 + 2.0 <gurobi.Var *Awaiting Model Update*> ^ 2 ]>"
      ]
     },
     "execution_count": 36,
     "metadata": {},
     "output_type": "execute_result"
    }
   ],
   "source": [
    "objective = QuadExpr()\n",
    "objective.addTerms(1, x[0], x[0])  # x1^2\n",
    "objective.addTerms(1, x[1], x[1])  # x2^2\n",
    "objective.addTerms(3, x[2], x[2])  # x3^2\n",
    "objective.addTerms(4, x[3], x[3])  # x4^2\n",
    "objective.addTerms(2, x[4], x[4])  # x5^2\n",
    "objective.addTerms(-8, x[0])  # -8x1\n",
    "objective.addTerms(-2, x[1])  # -2x2\n",
    "objective.addTerms(-3, x[2])  # -3x3\n",
    "objective.addTerms(-1, x[3])  # -x4\n",
    "objective.addTerms(-2, x[4])  # -2x5\n",
    "objective"
   ]
  },
  {
   "cell_type": "code",
   "execution_count": 37,
   "metadata": {},
   "outputs": [],
   "source": [
    "m.setObjective(objective, GRB.MAXIMIZE)"
   ]
  },
  {
   "cell_type": "code",
   "execution_count": 38,
   "metadata": {},
   "outputs": [
    {
     "data": {
      "text/plain": [
       "<gurobi.Constr *Awaiting Model Update*>"
      ]
     },
     "execution_count": 38,
     "metadata": {},
     "output_type": "execute_result"
    }
   ],
   "source": [
    "m.addConstr(x[0] + x[1] + x[2] + x[3] + x[4] <= 400)\n",
    "m.addConstr(x[0] + 2 * x[1] + 2 * x[2] + x[3] + 6 * x[4] <= 800)\n",
    "m.addConstr(2 * x[0] + x[1] + 6 * x[2] <= 200)\n",
    "m.addConstr(x[2] + x[3] + 5 * x[4] <= 200)"
   ]
  },
  {
   "cell_type": "code",
   "execution_count": 39,
   "metadata": {},
   "outputs": [
    {
     "name": "stdout",
     "output_type": "stream",
     "text": [
      "Gurobi Optimizer version 11.0.2 build v11.0.2rc0 (mac64[arm] - Darwin 23.4.0 23E224)\n",
      "\n",
      "CPU model: Apple M1 Pro\n",
      "Thread count: 8 physical cores, 8 logical processors, using up to 8 threads\n",
      "\n",
      "Optimize a model with 4 rows, 5 columns and 16 nonzeros\n",
      "Model fingerprint: 0x1e189939\n",
      "Model has 5 quadratic objective terms\n",
      "Variable types: 0 continuous, 5 integer (0 binary)\n",
      "Coefficient statistics:\n",
      "  Matrix range     [1e+00, 6e+00]\n",
      "  Objective range  [1e+00, 8e+00]\n",
      "  QObjective range [2e+00, 8e+00]\n",
      "  Bounds range     [1e+02, 1e+02]\n",
      "  RHS range        [2e+02, 8e+02]\n",
      "Found heuristic solution: objective -0.0000000\n",
      "Presolve removed 2 rows and 0 columns\n",
      "Presolve time: 0.01s\n",
      "Presolved: 12 rows, 375 columns, 751 nonzeros\n",
      "Variable types: 0 continuous, 375 integer (370 binary)\n",
      "\n",
      "Root relaxation: objective 5.487910e+04, 8 iterations, 0.00 seconds (0.00 work units)\n",
      "\n",
      "    Nodes    |    Current Node    |     Objective Bounds      |     Work\n",
      " Expl Unexpl |  Obj  Depth IntInf | Incumbent    BestBd   Gap | It/Node Time\n",
      "\n",
      "     0     0 54879.1000    0    4   -0.00000 54879.1000      -     -    0s\n",
      "H    0     0                    48727.000000 54879.1000  12.6%     -    0s\n",
      "H    0     0                    51568.000000 54879.1000  6.42%     -    0s\n",
      "\n",
      "Cutting planes:\n",
      "  MIR: 2\n",
      "  StrongCG: 2\n",
      "\n",
      "Explored 1 nodes (8 simplex iterations) in 0.10 seconds (0.01 work units)\n",
      "Thread count was 8 (of 8 available processors)\n",
      "\n",
      "Solution count 3: 51568 48727 -0 \n",
      "\n",
      "Optimal solution found (tolerance 1.00e-04)\n",
      "Best objective 5.156800000000e+04, best bound 5.156800000000e+04, gap 0.0000%\n"
     ]
    }
   ],
   "source": [
    "m.optimize()"
   ]
  },
  {
   "cell_type": "code",
   "execution_count": 40,
   "metadata": {},
   "outputs": [
    {
     "name": "stdout",
     "output_type": "stream",
     "text": [
      "Objective value: 51568.0\n",
      "Optimal solution:\n",
      "x[0] = 50.0\n",
      "x[1] = 99.0\n",
      "x[3] = 99.0\n",
      "x[4] = 20.0\n"
     ]
    }
   ],
   "source": [
    "print(f\"Objective value: {m.ObjVal}\")\n",
    "print(\"Optimal solution:\")\n",
    "for i in m.getVars():\n",
    "    if i.X > 1e-6:\n",
    "        print(f\"{i.VarName} = {i.X}\", end=\"\\n\")"
   ]
  }
 ],
 "metadata": {
  "kernelspec": {
   "display_name": "Python 3",
   "language": "python",
   "name": "python3"
  },
  "language_info": {
   "codemirror_mode": {
    "name": "ipython",
    "version": 3
   },
   "file_extension": ".py",
   "mimetype": "text/x-python",
   "name": "python",
   "nbconvert_exporter": "python",
   "pygments_lexer": "ipython3",
   "version": "3.12.3"
  }
 },
 "nbformat": 4,
 "nbformat_minor": 2
}
