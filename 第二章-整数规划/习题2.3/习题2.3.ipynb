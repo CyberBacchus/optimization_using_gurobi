{
 "cells": [
  {
   "cell_type": "code",
   "execution_count": 74,
   "metadata": {},
   "outputs": [],
   "source": [
    "import numpy as np\n",
    "import pandas as pd\n",
    "import gurobipy as gp\n",
    "from gurobipy import GRB"
   ]
  },
  {
   "cell_type": "code",
   "execution_count": 75,
   "metadata": {},
   "outputs": [],
   "source": [
    "m = gp.Model()"
   ]
  },
  {
   "cell_type": "code",
   "execution_count": 76,
   "metadata": {},
   "outputs": [],
   "source": [
    "combos, profit = gp.multidict(\n",
    "    {\n",
    "        (\"Device1\", \"Company1\"): 4,\n",
    "        (\"Device2\", \"Company1\"): 6,\n",
    "        (\"Device3\", \"Company1\"): 7,\n",
    "        (\"Device4\", \"Company1\"): 7,\n",
    "        (\"Device5\", \"Company1\"): 7,\n",
    "        (\"Device6\", \"Company1\"): 7,\n",
    "        (\"Device1\", \"Company2\"): 2,\n",
    "        (\"Device2\", \"Company2\"): 4,\n",
    "        (\"Device3\", \"Company2\"): 6,\n",
    "        (\"Device4\", \"Company2\"): 8,\n",
    "        (\"Device5\", \"Company2\"): 9,\n",
    "        (\"Device6\", \"Company2\"): 10,\n",
    "        (\"Device1\", \"Company3\"): 3,\n",
    "        (\"Device2\", \"Company3\"): 5,\n",
    "        (\"Device3\", \"Company3\"): 7,\n",
    "        (\"Device4\", \"Company3\"): 8,\n",
    "        (\"Device5\", \"Company3\"): 8,\n",
    "        (\"Device6\", \"Company3\"): 8,\n",
    "        (\"Device1\", \"Company4\"): 4,\n",
    "        (\"Device2\", \"Company4\"): 5,\n",
    "        (\"Device3\", \"Company4\"): 6,\n",
    "        (\"Device4\", \"Company4\"): 6,\n",
    "        (\"Device5\", \"Company4\"): 6,\n",
    "        (\"Device6\", \"Company4\"): 6,\n",
    "    }\n",
    ")"
   ]
  },
  {
   "cell_type": "code",
   "execution_count": 77,
   "metadata": {},
   "outputs": [],
   "source": [
    "devices = set(combo[0] for combo in combos)\n",
    "companies = set(combo[1] for combo in combos)"
   ]
  },
  {
   "cell_type": "code",
   "execution_count": 78,
   "metadata": {},
   "outputs": [],
   "source": [
    "x = m.addVars(combos, vtype=GRB.BINARY, name=\"x\")"
   ]
  },
  {
   "cell_type": "code",
   "execution_count": 79,
   "metadata": {},
   "outputs": [],
   "source": [
    "m.setObjective(x.prod(profit), sense=GRB.MAXIMIZE)"
   ]
  },
  {
   "cell_type": "code",
   "execution_count": 80,
   "metadata": {},
   "outputs": [
    {
     "data": {
      "text/plain": [
       "{'Device2': <gurobi.Constr *Awaiting Model Update*>,\n",
       " 'Device5': <gurobi.Constr *Awaiting Model Update*>,\n",
       " 'Device6': <gurobi.Constr *Awaiting Model Update*>,\n",
       " 'Device3': <gurobi.Constr *Awaiting Model Update*>,\n",
       " 'Device4': <gurobi.Constr *Awaiting Model Update*>,\n",
       " 'Device1': <gurobi.Constr *Awaiting Model Update*>}"
      ]
     },
     "execution_count": 80,
     "metadata": {},
     "output_type": "execute_result"
    }
   ],
   "source": [
    "m.addConstrs((x.sum(device, \"*\") == 1 for device in devices), name=\"Device只能给一家\")"
   ]
  },
  {
   "cell_type": "code",
   "execution_count": 81,
   "metadata": {},
   "outputs": [
    {
     "data": {
      "text/plain": [
       "{'Company1': <gurobi.Constr *Awaiting Model Update*>,\n",
       " 'Company4': <gurobi.Constr *Awaiting Model Update*>,\n",
       " 'Company3': <gurobi.Constr *Awaiting Model Update*>,\n",
       " 'Company2': <gurobi.Constr *Awaiting Model Update*>}"
      ]
     },
     "execution_count": 81,
     "metadata": {},
     "output_type": "execute_result"
    }
   ],
   "source": [
    "m.addConstrs(\n",
    "    (x.sum(\"*\", company) >= 1 for company in companies), name=\"企业至少分得一台Device\"\n",
    ")"
   ]
  },
  {
   "cell_type": "code",
   "execution_count": 82,
   "metadata": {},
   "outputs": [
    {
     "name": "stdout",
     "output_type": "stream",
     "text": [
      "Gurobi Optimizer version 11.0.2 build v11.0.2rc0 (mac64[arm] - Darwin 23.4.0 23E224)\n",
      "\n",
      "CPU model: Apple M1 Pro\n",
      "Thread count: 8 physical cores, 8 logical processors, using up to 8 threads\n",
      "\n",
      "Optimize a model with 10 rows, 24 columns and 48 nonzeros\n",
      "Model fingerprint: 0xb36c0d1d\n",
      "Variable types: 0 continuous, 24 integer (24 binary)\n",
      "Coefficient statistics:\n",
      "  Matrix range     [1e+00, 1e+00]\n",
      "  Objective range  [2e+00, 1e+01]\n",
      "  Bounds range     [1e+00, 1e+00]\n",
      "  RHS range        [1e+00, 1e+00]\n",
      "Found heuristic solution: objective 39.0000000\n",
      "Presolve time: 0.00s\n",
      "Presolved: 10 rows, 24 columns, 48 nonzeros\n",
      "Variable types: 0 continuous, 24 integer (24 binary)\n",
      "Found heuristic solution: objective 43.0000000\n",
      "\n",
      "Root relaxation: objective 4.400000e+01, 7 iterations, 0.00 seconds (0.00 work units)\n",
      "\n",
      "    Nodes    |    Current Node    |     Objective Bounds      |     Work\n",
      " Expl Unexpl |  Obj  Depth IntInf | Incumbent    BestBd   Gap | It/Node Time\n",
      "\n",
      "*    0     0               0      44.0000000   44.00000  0.00%     -    0s\n",
      "\n",
      "Explored 1 nodes (7 simplex iterations) in 0.01 seconds (0.00 work units)\n",
      "Thread count was 8 (of 8 available processors)\n",
      "\n",
      "Solution count 3: 44 43 39 \n",
      "\n",
      "Optimal solution found (tolerance 1.00e-04)\n",
      "Best objective 4.400000000000e+01, best bound 4.400000000000e+01, gap 0.0000%\n"
     ]
    }
   ],
   "source": [
    "m.optimize()"
   ]
  },
  {
   "cell_type": "code",
   "execution_count": 83,
   "metadata": {},
   "outputs": [],
   "source": [
    "m.write(\"IP.lp\")"
   ]
  },
  {
   "cell_type": "code",
   "execution_count": 84,
   "metadata": {},
   "outputs": [
    {
     "name": "stdout",
     "output_type": "stream",
     "text": [
      "Objective value: 44.0\n",
      "Optimal solution:\n",
      "x[Device2,Company1] = 1.0\n",
      "x[Device4,Company2] = 1.0\n",
      "x[Device5,Company2] = 1.0\n",
      "x[Device6,Company2] = 1.0\n",
      "x[Device3,Company3] = 1.0\n",
      "x[Device1,Company4] = 1.0\n"
     ]
    }
   ],
   "source": [
    "print(f\"Objective value: {m.ObjVal}\")\n",
    "print(\"Optimal solution:\")\n",
    "for i in m.getVars():\n",
    "    if i.X > 1e-6:\n",
    "        print(f\"{i.VarName} = {i.X}\", end=\"\\n\")"
   ]
  }
 ],
 "metadata": {
  "kernelspec": {
   "display_name": "Python 3",
   "language": "python",
   "name": "python3"
  },
  "language_info": {
   "codemirror_mode": {
    "name": "ipython",
    "version": 3
   },
   "file_extension": ".py",
   "mimetype": "text/x-python",
   "name": "python",
   "nbconvert_exporter": "python",
   "pygments_lexer": "ipython3",
   "version": "3.12.3"
  }
 },
 "nbformat": 4,
 "nbformat_minor": 2
}
